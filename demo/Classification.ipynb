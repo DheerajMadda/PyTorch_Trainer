{
 "cells": [
  {
   "cell_type": "markdown",
   "id": "05dfd592",
   "metadata": {},
   "source": [
    "### Stanford Cars Dataset (196 classes - 8144 Train images | 8041 Test images)\n",
    "Dataset link : https://www.kaggle.com/datasets/jessicali9530/stanford-cars-dataset"
   ]
  },
  {
   "cell_type": "code",
   "execution_count": 1,
   "id": "5dc1a3b4",
   "metadata": {},
   "outputs": [],
   "source": [
    "import os\n",
    "from glob import glob\n",
    "\n",
    "import cv2\n",
    "import random\n",
    "import numpy as np\n",
    "from scipy.io import loadmat\n",
    "import matplotlib.pyplot as plt\n",
    "import albumentations as A\n",
    "\n",
    "import torch\n",
    "import torch.nn as nn\n",
    "import torch.nn.functional as F\n",
    "import torch.optim as optim\n",
    "from torch.utils.data import Dataset, DataLoader\n",
    "from torchvision.models import efficientnet_b5, EfficientNet_B5_Weights"
   ]
  },
  {
   "cell_type": "code",
   "execution_count": 2,
   "id": "85afab93",
   "metadata": {},
   "outputs": [],
   "source": [
    "from torch_trainer import EarlyStopping, ModelCheckpoint, Trainer, Profiler\n",
    "from utils.metrics import MulticlassAccuracy"
   ]
  },
  {
   "cell_type": "markdown",
   "id": "b93e408b",
   "metadata": {},
   "source": [
    "# Classification\n",
    "# ---------------------------------------------------------------------------------"
   ]
  },
  {
   "cell_type": "markdown",
   "id": "61ffd7dd",
   "metadata": {},
   "source": [
    "### 1. Create train and val splits"
   ]
  },
  {
   "cell_type": "code",
   "execution_count": 3,
   "id": "96aa6aa2",
   "metadata": {},
   "outputs": [],
   "source": [
    "paths = {\n",
    "    \"train_images\" : os.path.join(os.getcwd(), \"datasets\", \"cars_train\"),\n",
    "    \"test_images\" : os.path.join(os.getcwd(), \"datasets\", \"cars_test\"),\n",
    "    \"train_mat\" : os.path.join(os.getcwd(), \"datasets\", \"cars_train_annos.mat\"),\n",
    "    \"test_mat\" : os.path.join(os.getcwd(), \"datasets\", \"cars_test_annos_withlabels.mat\"),\n",
    "    \"class_names_mat\" : os.path.join(os.getcwd(), \"datasets\", \"cars_meta.mat\"),\n",
    "}"
   ]
  },
  {
   "cell_type": "code",
   "execution_count": 4,
   "id": "3d9a0ce8",
   "metadata": {},
   "outputs": [],
   "source": [
    "def get_images(train_path, test_path):\n",
    "    train_images = sorted(glob(os.path.join(train_path, \"*\")))\n",
    "    test_images = sorted(glob(os.path.join(test_path, \"*\")))\n",
    "    return train_images, test_images\n",
    "\n",
    "def get_labels(train_path, test_path):\n",
    "    train_annots = loadmat(train_path)[\"annotations\"][0]\n",
    "    test_annots = loadmat(test_path)[\"annotations\"][0]\n",
    "    \n",
    "    train_labels = [(item[-2][0][0] - 1) for item in train_annots]\n",
    "    test_labels = [(item[-2][0][0] - 1) for item in test_annots]\n",
    "    \n",
    "    return train_labels, test_labels\n",
    "\n",
    "def get_class_labels_map(paths):\n",
    "    class_names = loadmat(paths[\"class_names_mat\"])[\"class_names\"][0]\n",
    "    \n",
    "    class2Id = {item[0] : idx for idx, item in enumerate(class_names)}\n",
    "    Id2class = {class_id: class_name for class_name, class_id in class2Id.items()}\n",
    "    \n",
    "    return class2Id, Id2class\n",
    "\n",
    "def create_train_val(paths, split=0.9):\n",
    "    train_x = []\n",
    "    train_y = []\n",
    "    val_x = []\n",
    "    val_y = []\n",
    "    \n",
    "    # read images\n",
    "    train_images, test_images = get_images(paths[\"train_images\"], paths[\"test_images\"])\n",
    "    \n",
    "    # read labels\n",
    "    train_labels, test_labels = get_labels(paths[\"train_mat\"], paths[\"test_mat\"])\n",
    "    \n",
    "    # concat\n",
    "    images = train_images + test_images\n",
    "    labels = train_labels + test_labels\n",
    "    \n",
    "    \n",
    "    # split\n",
    "    split_index = int(split * len(images))\n",
    "    train_x, val_x = images[:split_index], images[split_index:]\n",
    "    train_y, val_y = labels[:split_index], labels[split_index:]\n",
    "    \n",
    "    return (train_x, train_y), (val_x, val_y)"
   ]
  },
  {
   "cell_type": "code",
   "execution_count": 5,
   "id": "3a831956",
   "metadata": {},
   "outputs": [
    {
     "name": "stdout",
     "output_type": "stream",
     "text": [
      "Count: Train Images - 7336 | 7336\n",
      "Count: Val Images - 3145  | 8849\n"
     ]
    }
   ],
   "source": [
    "(train_x, train_y), (val_x, val_y) = create_train_val(paths, split=0.7)\n",
    "\n",
    "print(f\"Count: Train Images - {len(train_x)} | {len(train_y)}\")\n",
    "print(f\"Count: Val Images - {len(val_x)}  | {len(val_y)}\")"
   ]
  },
  {
   "cell_type": "code",
   "execution_count": 6,
   "id": "c02ad3cb",
   "metadata": {},
   "outputs": [
    {
     "data": {
      "text/plain": [
       "({'AM General Hummer SUV 2000': 0,\n",
       "  'Acura RL Sedan 2012': 1,\n",
       "  'Acura TL Sedan 2012': 2,\n",
       "  'Acura TL Type-S 2008': 3,\n",
       "  'Acura TSX Sedan 2012': 4,\n",
       "  'Acura Integra Type R 2001': 5,\n",
       "  'Acura ZDX Hatchback 2012': 6,\n",
       "  'Aston Martin V8 Vantage Convertible 2012': 7,\n",
       "  'Aston Martin V8 Vantage Coupe 2012': 8,\n",
       "  'Aston Martin Virage Convertible 2012': 9,\n",
       "  'Aston Martin Virage Coupe 2012': 10,\n",
       "  'Audi RS 4 Convertible 2008': 11,\n",
       "  'Audi A5 Coupe 2012': 12,\n",
       "  'Audi TTS Coupe 2012': 13,\n",
       "  'Audi R8 Coupe 2012': 14,\n",
       "  'Audi V8 Sedan 1994': 15,\n",
       "  'Audi 100 Sedan 1994': 16,\n",
       "  'Audi 100 Wagon 1994': 17,\n",
       "  'Audi TT Hatchback 2011': 18,\n",
       "  'Audi S6 Sedan 2011': 19,\n",
       "  'Audi S5 Convertible 2012': 20,\n",
       "  'Audi S5 Coupe 2012': 21,\n",
       "  'Audi S4 Sedan 2012': 22,\n",
       "  'Audi S4 Sedan 2007': 23,\n",
       "  'Audi TT RS Coupe 2012': 24,\n",
       "  'BMW ActiveHybrid 5 Sedan 2012': 25,\n",
       "  'BMW 1 Series Convertible 2012': 26,\n",
       "  'BMW 1 Series Coupe 2012': 27,\n",
       "  'BMW 3 Series Sedan 2012': 28,\n",
       "  'BMW 3 Series Wagon 2012': 29,\n",
       "  'BMW 6 Series Convertible 2007': 30,\n",
       "  'BMW X5 SUV 2007': 31,\n",
       "  'BMW X6 SUV 2012': 32,\n",
       "  'BMW M3 Coupe 2012': 33,\n",
       "  'BMW M5 Sedan 2010': 34,\n",
       "  'BMW M6 Convertible 2010': 35,\n",
       "  'BMW X3 SUV 2012': 36,\n",
       "  'BMW Z4 Convertible 2012': 37,\n",
       "  'Bentley Continental Supersports Conv. Convertible 2012': 38,\n",
       "  'Bentley Arnage Sedan 2009': 39,\n",
       "  'Bentley Mulsanne Sedan 2011': 40,\n",
       "  'Bentley Continental GT Coupe 2012': 41,\n",
       "  'Bentley Continental GT Coupe 2007': 42,\n",
       "  'Bentley Continental Flying Spur Sedan 2007': 43,\n",
       "  'Bugatti Veyron 16.4 Convertible 2009': 44,\n",
       "  'Bugatti Veyron 16.4 Coupe 2009': 45,\n",
       "  'Buick Regal GS 2012': 46,\n",
       "  'Buick Rainier SUV 2007': 47,\n",
       "  'Buick Verano Sedan 2012': 48,\n",
       "  'Buick Enclave SUV 2012': 49,\n",
       "  'Cadillac CTS-V Sedan 2012': 50,\n",
       "  'Cadillac SRX SUV 2012': 51,\n",
       "  'Cadillac Escalade EXT Crew Cab 2007': 52,\n",
       "  'Chevrolet Silverado 1500 Hybrid Crew Cab 2012': 53,\n",
       "  'Chevrolet Corvette Convertible 2012': 54,\n",
       "  'Chevrolet Corvette ZR1 2012': 55,\n",
       "  'Chevrolet Corvette Ron Fellows Edition Z06 2007': 56,\n",
       "  'Chevrolet Traverse SUV 2012': 57,\n",
       "  'Chevrolet Camaro Convertible 2012': 58,\n",
       "  'Chevrolet HHR SS 2010': 59,\n",
       "  'Chevrolet Impala Sedan 2007': 60,\n",
       "  'Chevrolet Tahoe Hybrid SUV 2012': 61,\n",
       "  'Chevrolet Sonic Sedan 2012': 62,\n",
       "  'Chevrolet Express Cargo Van 2007': 63,\n",
       "  'Chevrolet Avalanche Crew Cab 2012': 64,\n",
       "  'Chevrolet Cobalt SS 2010': 65,\n",
       "  'Chevrolet Malibu Hybrid Sedan 2010': 66,\n",
       "  'Chevrolet TrailBlazer SS 2009': 67,\n",
       "  'Chevrolet Silverado 2500HD Regular Cab 2012': 68,\n",
       "  'Chevrolet Silverado 1500 Classic Extended Cab 2007': 69,\n",
       "  'Chevrolet Express Van 2007': 70,\n",
       "  'Chevrolet Monte Carlo Coupe 2007': 71,\n",
       "  'Chevrolet Malibu Sedan 2007': 72,\n",
       "  'Chevrolet Silverado 1500 Extended Cab 2012': 73,\n",
       "  'Chevrolet Silverado 1500 Regular Cab 2012': 74,\n",
       "  'Chrysler Aspen SUV 2009': 75,\n",
       "  'Chrysler Sebring Convertible 2010': 76,\n",
       "  'Chrysler Town and Country Minivan 2012': 77,\n",
       "  'Chrysler 300 SRT-8 2010': 78,\n",
       "  'Chrysler Crossfire Convertible 2008': 79,\n",
       "  'Chrysler PT Cruiser Convertible 2008': 80,\n",
       "  'Daewoo Nubira Wagon 2002': 81,\n",
       "  'Dodge Caliber Wagon 2012': 82,\n",
       "  'Dodge Caliber Wagon 2007': 83,\n",
       "  'Dodge Caravan Minivan 1997': 84,\n",
       "  'Dodge Ram Pickup 3500 Crew Cab 2010': 85,\n",
       "  'Dodge Ram Pickup 3500 Quad Cab 2009': 86,\n",
       "  'Dodge Sprinter Cargo Van 2009': 87,\n",
       "  'Dodge Journey SUV 2012': 88,\n",
       "  'Dodge Dakota Crew Cab 2010': 89,\n",
       "  'Dodge Dakota Club Cab 2007': 90,\n",
       "  'Dodge Magnum Wagon 2008': 91,\n",
       "  'Dodge Challenger SRT8 2011': 92,\n",
       "  'Dodge Durango SUV 2012': 93,\n",
       "  'Dodge Durango SUV 2007': 94,\n",
       "  'Dodge Charger Sedan 2012': 95,\n",
       "  'Dodge Charger SRT-8 2009': 96,\n",
       "  'Eagle Talon Hatchback 1998': 97,\n",
       "  'FIAT 500 Abarth 2012': 98,\n",
       "  'FIAT 500 Convertible 2012': 99,\n",
       "  'Ferrari FF Coupe 2012': 100,\n",
       "  'Ferrari California Convertible 2012': 101,\n",
       "  'Ferrari 458 Italia Convertible 2012': 102,\n",
       "  'Ferrari 458 Italia Coupe 2012': 103,\n",
       "  'Fisker Karma Sedan 2012': 104,\n",
       "  'Ford F-450 Super Duty Crew Cab 2012': 105,\n",
       "  'Ford Mustang Convertible 2007': 106,\n",
       "  'Ford Freestar Minivan 2007': 107,\n",
       "  'Ford Expedition EL SUV 2009': 108,\n",
       "  'Ford Edge SUV 2012': 109,\n",
       "  'Ford Ranger SuperCab 2011': 110,\n",
       "  'Ford GT Coupe 2006': 111,\n",
       "  'Ford F-150 Regular Cab 2012': 112,\n",
       "  'Ford F-150 Regular Cab 2007': 113,\n",
       "  'Ford Focus Sedan 2007': 114,\n",
       "  'Ford E-Series Wagon Van 2012': 115,\n",
       "  'Ford Fiesta Sedan 2012': 116,\n",
       "  'GMC Terrain SUV 2012': 117,\n",
       "  'GMC Savana Van 2012': 118,\n",
       "  'GMC Yukon Hybrid SUV 2012': 119,\n",
       "  'GMC Acadia SUV 2012': 120,\n",
       "  'GMC Canyon Extended Cab 2012': 121,\n",
       "  'Geo Metro Convertible 1993': 122,\n",
       "  'HUMMER H3T Crew Cab 2010': 123,\n",
       "  'HUMMER H2 SUT Crew Cab 2009': 124,\n",
       "  'Honda Odyssey Minivan 2012': 125,\n",
       "  'Honda Odyssey Minivan 2007': 126,\n",
       "  'Honda Accord Coupe 2012': 127,\n",
       "  'Honda Accord Sedan 2012': 128,\n",
       "  'Hyundai Veloster Hatchback 2012': 129,\n",
       "  'Hyundai Santa Fe SUV 2012': 130,\n",
       "  'Hyundai Tucson SUV 2012': 131,\n",
       "  'Hyundai Veracruz SUV 2012': 132,\n",
       "  'Hyundai Sonata Hybrid Sedan 2012': 133,\n",
       "  'Hyundai Elantra Sedan 2007': 134,\n",
       "  'Hyundai Accent Sedan 2012': 135,\n",
       "  'Hyundai Genesis Sedan 2012': 136,\n",
       "  'Hyundai Sonata Sedan 2012': 137,\n",
       "  'Hyundai Elantra Touring Hatchback 2012': 138,\n",
       "  'Hyundai Azera Sedan 2012': 139,\n",
       "  'Infiniti G Coupe IPL 2012': 140,\n",
       "  'Infiniti QX56 SUV 2011': 141,\n",
       "  'Isuzu Ascender SUV 2008': 142,\n",
       "  'Jaguar XK XKR 2012': 143,\n",
       "  'Jeep Patriot SUV 2012': 144,\n",
       "  'Jeep Wrangler SUV 2012': 145,\n",
       "  'Jeep Liberty SUV 2012': 146,\n",
       "  'Jeep Grand Cherokee SUV 2012': 147,\n",
       "  'Jeep Compass SUV 2012': 148,\n",
       "  'Lamborghini Reventon Coupe 2008': 149,\n",
       "  'Lamborghini Aventador Coupe 2012': 150,\n",
       "  'Lamborghini Gallardo LP 570-4 Superleggera 2012': 151,\n",
       "  'Lamborghini Diablo Coupe 2001': 152,\n",
       "  'Land Rover Range Rover SUV 2012': 153,\n",
       "  'Land Rover LR2 SUV 2012': 154,\n",
       "  'Lincoln Town Car Sedan 2011': 155,\n",
       "  'MINI Cooper Roadster Convertible 2012': 156,\n",
       "  'Maybach Landaulet Convertible 2012': 157,\n",
       "  'Mazda Tribute SUV 2011': 158,\n",
       "  'McLaren MP4-12C Coupe 2012': 159,\n",
       "  'Mercedes-Benz 300-Class Convertible 1993': 160,\n",
       "  'Mercedes-Benz C-Class Sedan 2012': 161,\n",
       "  'Mercedes-Benz SL-Class Coupe 2009': 162,\n",
       "  'Mercedes-Benz E-Class Sedan 2012': 163,\n",
       "  'Mercedes-Benz S-Class Sedan 2012': 164,\n",
       "  'Mercedes-Benz Sprinter Van 2012': 165,\n",
       "  'Mitsubishi Lancer Sedan 2012': 166,\n",
       "  'Nissan Leaf Hatchback 2012': 167,\n",
       "  'Nissan NV Passenger Van 2012': 168,\n",
       "  'Nissan Juke Hatchback 2012': 169,\n",
       "  'Nissan 240SX Coupe 1998': 170,\n",
       "  'Plymouth Neon Coupe 1999': 171,\n",
       "  'Porsche Panamera Sedan 2012': 172,\n",
       "  'Ram C/V Cargo Van Minivan 2012': 173,\n",
       "  'Rolls-Royce Phantom Drophead Coupe Convertible 2012': 174,\n",
       "  'Rolls-Royce Ghost Sedan 2012': 175,\n",
       "  'Rolls-Royce Phantom Sedan 2012': 176,\n",
       "  'Scion xD Hatchback 2012': 177,\n",
       "  'Spyker C8 Convertible 2009': 178,\n",
       "  'Spyker C8 Coupe 2009': 179,\n",
       "  'Suzuki Aerio Sedan 2007': 180,\n",
       "  'Suzuki Kizashi Sedan 2012': 181,\n",
       "  'Suzuki SX4 Hatchback 2012': 182,\n",
       "  'Suzuki SX4 Sedan 2012': 183,\n",
       "  'Tesla Model S Sedan 2012': 184,\n",
       "  'Toyota Sequoia SUV 2012': 185,\n",
       "  'Toyota Camry Sedan 2012': 186,\n",
       "  'Toyota Corolla Sedan 2012': 187,\n",
       "  'Toyota 4Runner SUV 2012': 188,\n",
       "  'Volkswagen Golf Hatchback 2012': 189,\n",
       "  'Volkswagen Golf Hatchback 1991': 190,\n",
       "  'Volkswagen Beetle Hatchback 2012': 191,\n",
       "  'Volvo C30 Hatchback 2012': 192,\n",
       "  'Volvo 240 Sedan 1993': 193,\n",
       "  'Volvo XC90 SUV 2007': 194,\n",
       "  'smart fortwo Convertible 2012': 195},\n",
       " {0: 'AM General Hummer SUV 2000',\n",
       "  1: 'Acura RL Sedan 2012',\n",
       "  2: 'Acura TL Sedan 2012',\n",
       "  3: 'Acura TL Type-S 2008',\n",
       "  4: 'Acura TSX Sedan 2012',\n",
       "  5: 'Acura Integra Type R 2001',\n",
       "  6: 'Acura ZDX Hatchback 2012',\n",
       "  7: 'Aston Martin V8 Vantage Convertible 2012',\n",
       "  8: 'Aston Martin V8 Vantage Coupe 2012',\n",
       "  9: 'Aston Martin Virage Convertible 2012',\n",
       "  10: 'Aston Martin Virage Coupe 2012',\n",
       "  11: 'Audi RS 4 Convertible 2008',\n",
       "  12: 'Audi A5 Coupe 2012',\n",
       "  13: 'Audi TTS Coupe 2012',\n",
       "  14: 'Audi R8 Coupe 2012',\n",
       "  15: 'Audi V8 Sedan 1994',\n",
       "  16: 'Audi 100 Sedan 1994',\n",
       "  17: 'Audi 100 Wagon 1994',\n",
       "  18: 'Audi TT Hatchback 2011',\n",
       "  19: 'Audi S6 Sedan 2011',\n",
       "  20: 'Audi S5 Convertible 2012',\n",
       "  21: 'Audi S5 Coupe 2012',\n",
       "  22: 'Audi S4 Sedan 2012',\n",
       "  23: 'Audi S4 Sedan 2007',\n",
       "  24: 'Audi TT RS Coupe 2012',\n",
       "  25: 'BMW ActiveHybrid 5 Sedan 2012',\n",
       "  26: 'BMW 1 Series Convertible 2012',\n",
       "  27: 'BMW 1 Series Coupe 2012',\n",
       "  28: 'BMW 3 Series Sedan 2012',\n",
       "  29: 'BMW 3 Series Wagon 2012',\n",
       "  30: 'BMW 6 Series Convertible 2007',\n",
       "  31: 'BMW X5 SUV 2007',\n",
       "  32: 'BMW X6 SUV 2012',\n",
       "  33: 'BMW M3 Coupe 2012',\n",
       "  34: 'BMW M5 Sedan 2010',\n",
       "  35: 'BMW M6 Convertible 2010',\n",
       "  36: 'BMW X3 SUV 2012',\n",
       "  37: 'BMW Z4 Convertible 2012',\n",
       "  38: 'Bentley Continental Supersports Conv. Convertible 2012',\n",
       "  39: 'Bentley Arnage Sedan 2009',\n",
       "  40: 'Bentley Mulsanne Sedan 2011',\n",
       "  41: 'Bentley Continental GT Coupe 2012',\n",
       "  42: 'Bentley Continental GT Coupe 2007',\n",
       "  43: 'Bentley Continental Flying Spur Sedan 2007',\n",
       "  44: 'Bugatti Veyron 16.4 Convertible 2009',\n",
       "  45: 'Bugatti Veyron 16.4 Coupe 2009',\n",
       "  46: 'Buick Regal GS 2012',\n",
       "  47: 'Buick Rainier SUV 2007',\n",
       "  48: 'Buick Verano Sedan 2012',\n",
       "  49: 'Buick Enclave SUV 2012',\n",
       "  50: 'Cadillac CTS-V Sedan 2012',\n",
       "  51: 'Cadillac SRX SUV 2012',\n",
       "  52: 'Cadillac Escalade EXT Crew Cab 2007',\n",
       "  53: 'Chevrolet Silverado 1500 Hybrid Crew Cab 2012',\n",
       "  54: 'Chevrolet Corvette Convertible 2012',\n",
       "  55: 'Chevrolet Corvette ZR1 2012',\n",
       "  56: 'Chevrolet Corvette Ron Fellows Edition Z06 2007',\n",
       "  57: 'Chevrolet Traverse SUV 2012',\n",
       "  58: 'Chevrolet Camaro Convertible 2012',\n",
       "  59: 'Chevrolet HHR SS 2010',\n",
       "  60: 'Chevrolet Impala Sedan 2007',\n",
       "  61: 'Chevrolet Tahoe Hybrid SUV 2012',\n",
       "  62: 'Chevrolet Sonic Sedan 2012',\n",
       "  63: 'Chevrolet Express Cargo Van 2007',\n",
       "  64: 'Chevrolet Avalanche Crew Cab 2012',\n",
       "  65: 'Chevrolet Cobalt SS 2010',\n",
       "  66: 'Chevrolet Malibu Hybrid Sedan 2010',\n",
       "  67: 'Chevrolet TrailBlazer SS 2009',\n",
       "  68: 'Chevrolet Silverado 2500HD Regular Cab 2012',\n",
       "  69: 'Chevrolet Silverado 1500 Classic Extended Cab 2007',\n",
       "  70: 'Chevrolet Express Van 2007',\n",
       "  71: 'Chevrolet Monte Carlo Coupe 2007',\n",
       "  72: 'Chevrolet Malibu Sedan 2007',\n",
       "  73: 'Chevrolet Silverado 1500 Extended Cab 2012',\n",
       "  74: 'Chevrolet Silverado 1500 Regular Cab 2012',\n",
       "  75: 'Chrysler Aspen SUV 2009',\n",
       "  76: 'Chrysler Sebring Convertible 2010',\n",
       "  77: 'Chrysler Town and Country Minivan 2012',\n",
       "  78: 'Chrysler 300 SRT-8 2010',\n",
       "  79: 'Chrysler Crossfire Convertible 2008',\n",
       "  80: 'Chrysler PT Cruiser Convertible 2008',\n",
       "  81: 'Daewoo Nubira Wagon 2002',\n",
       "  82: 'Dodge Caliber Wagon 2012',\n",
       "  83: 'Dodge Caliber Wagon 2007',\n",
       "  84: 'Dodge Caravan Minivan 1997',\n",
       "  85: 'Dodge Ram Pickup 3500 Crew Cab 2010',\n",
       "  86: 'Dodge Ram Pickup 3500 Quad Cab 2009',\n",
       "  87: 'Dodge Sprinter Cargo Van 2009',\n",
       "  88: 'Dodge Journey SUV 2012',\n",
       "  89: 'Dodge Dakota Crew Cab 2010',\n",
       "  90: 'Dodge Dakota Club Cab 2007',\n",
       "  91: 'Dodge Magnum Wagon 2008',\n",
       "  92: 'Dodge Challenger SRT8 2011',\n",
       "  93: 'Dodge Durango SUV 2012',\n",
       "  94: 'Dodge Durango SUV 2007',\n",
       "  95: 'Dodge Charger Sedan 2012',\n",
       "  96: 'Dodge Charger SRT-8 2009',\n",
       "  97: 'Eagle Talon Hatchback 1998',\n",
       "  98: 'FIAT 500 Abarth 2012',\n",
       "  99: 'FIAT 500 Convertible 2012',\n",
       "  100: 'Ferrari FF Coupe 2012',\n",
       "  101: 'Ferrari California Convertible 2012',\n",
       "  102: 'Ferrari 458 Italia Convertible 2012',\n",
       "  103: 'Ferrari 458 Italia Coupe 2012',\n",
       "  104: 'Fisker Karma Sedan 2012',\n",
       "  105: 'Ford F-450 Super Duty Crew Cab 2012',\n",
       "  106: 'Ford Mustang Convertible 2007',\n",
       "  107: 'Ford Freestar Minivan 2007',\n",
       "  108: 'Ford Expedition EL SUV 2009',\n",
       "  109: 'Ford Edge SUV 2012',\n",
       "  110: 'Ford Ranger SuperCab 2011',\n",
       "  111: 'Ford GT Coupe 2006',\n",
       "  112: 'Ford F-150 Regular Cab 2012',\n",
       "  113: 'Ford F-150 Regular Cab 2007',\n",
       "  114: 'Ford Focus Sedan 2007',\n",
       "  115: 'Ford E-Series Wagon Van 2012',\n",
       "  116: 'Ford Fiesta Sedan 2012',\n",
       "  117: 'GMC Terrain SUV 2012',\n",
       "  118: 'GMC Savana Van 2012',\n",
       "  119: 'GMC Yukon Hybrid SUV 2012',\n",
       "  120: 'GMC Acadia SUV 2012',\n",
       "  121: 'GMC Canyon Extended Cab 2012',\n",
       "  122: 'Geo Metro Convertible 1993',\n",
       "  123: 'HUMMER H3T Crew Cab 2010',\n",
       "  124: 'HUMMER H2 SUT Crew Cab 2009',\n",
       "  125: 'Honda Odyssey Minivan 2012',\n",
       "  126: 'Honda Odyssey Minivan 2007',\n",
       "  127: 'Honda Accord Coupe 2012',\n",
       "  128: 'Honda Accord Sedan 2012',\n",
       "  129: 'Hyundai Veloster Hatchback 2012',\n",
       "  130: 'Hyundai Santa Fe SUV 2012',\n",
       "  131: 'Hyundai Tucson SUV 2012',\n",
       "  132: 'Hyundai Veracruz SUV 2012',\n",
       "  133: 'Hyundai Sonata Hybrid Sedan 2012',\n",
       "  134: 'Hyundai Elantra Sedan 2007',\n",
       "  135: 'Hyundai Accent Sedan 2012',\n",
       "  136: 'Hyundai Genesis Sedan 2012',\n",
       "  137: 'Hyundai Sonata Sedan 2012',\n",
       "  138: 'Hyundai Elantra Touring Hatchback 2012',\n",
       "  139: 'Hyundai Azera Sedan 2012',\n",
       "  140: 'Infiniti G Coupe IPL 2012',\n",
       "  141: 'Infiniti QX56 SUV 2011',\n",
       "  142: 'Isuzu Ascender SUV 2008',\n",
       "  143: 'Jaguar XK XKR 2012',\n",
       "  144: 'Jeep Patriot SUV 2012',\n",
       "  145: 'Jeep Wrangler SUV 2012',\n",
       "  146: 'Jeep Liberty SUV 2012',\n",
       "  147: 'Jeep Grand Cherokee SUV 2012',\n",
       "  148: 'Jeep Compass SUV 2012',\n",
       "  149: 'Lamborghini Reventon Coupe 2008',\n",
       "  150: 'Lamborghini Aventador Coupe 2012',\n",
       "  151: 'Lamborghini Gallardo LP 570-4 Superleggera 2012',\n",
       "  152: 'Lamborghini Diablo Coupe 2001',\n",
       "  153: 'Land Rover Range Rover SUV 2012',\n",
       "  154: 'Land Rover LR2 SUV 2012',\n",
       "  155: 'Lincoln Town Car Sedan 2011',\n",
       "  156: 'MINI Cooper Roadster Convertible 2012',\n",
       "  157: 'Maybach Landaulet Convertible 2012',\n",
       "  158: 'Mazda Tribute SUV 2011',\n",
       "  159: 'McLaren MP4-12C Coupe 2012',\n",
       "  160: 'Mercedes-Benz 300-Class Convertible 1993',\n",
       "  161: 'Mercedes-Benz C-Class Sedan 2012',\n",
       "  162: 'Mercedes-Benz SL-Class Coupe 2009',\n",
       "  163: 'Mercedes-Benz E-Class Sedan 2012',\n",
       "  164: 'Mercedes-Benz S-Class Sedan 2012',\n",
       "  165: 'Mercedes-Benz Sprinter Van 2012',\n",
       "  166: 'Mitsubishi Lancer Sedan 2012',\n",
       "  167: 'Nissan Leaf Hatchback 2012',\n",
       "  168: 'Nissan NV Passenger Van 2012',\n",
       "  169: 'Nissan Juke Hatchback 2012',\n",
       "  170: 'Nissan 240SX Coupe 1998',\n",
       "  171: 'Plymouth Neon Coupe 1999',\n",
       "  172: 'Porsche Panamera Sedan 2012',\n",
       "  173: 'Ram C/V Cargo Van Minivan 2012',\n",
       "  174: 'Rolls-Royce Phantom Drophead Coupe Convertible 2012',\n",
       "  175: 'Rolls-Royce Ghost Sedan 2012',\n",
       "  176: 'Rolls-Royce Phantom Sedan 2012',\n",
       "  177: 'Scion xD Hatchback 2012',\n",
       "  178: 'Spyker C8 Convertible 2009',\n",
       "  179: 'Spyker C8 Coupe 2009',\n",
       "  180: 'Suzuki Aerio Sedan 2007',\n",
       "  181: 'Suzuki Kizashi Sedan 2012',\n",
       "  182: 'Suzuki SX4 Hatchback 2012',\n",
       "  183: 'Suzuki SX4 Sedan 2012',\n",
       "  184: 'Tesla Model S Sedan 2012',\n",
       "  185: 'Toyota Sequoia SUV 2012',\n",
       "  186: 'Toyota Camry Sedan 2012',\n",
       "  187: 'Toyota Corolla Sedan 2012',\n",
       "  188: 'Toyota 4Runner SUV 2012',\n",
       "  189: 'Volkswagen Golf Hatchback 2012',\n",
       "  190: 'Volkswagen Golf Hatchback 1991',\n",
       "  191: 'Volkswagen Beetle Hatchback 2012',\n",
       "  192: 'Volvo C30 Hatchback 2012',\n",
       "  193: 'Volvo 240 Sedan 1993',\n",
       "  194: 'Volvo XC90 SUV 2007',\n",
       "  195: 'smart fortwo Convertible 2012'})"
      ]
     },
     "execution_count": 6,
     "metadata": {},
     "output_type": "execute_result"
    }
   ],
   "source": [
    "class2Id, Id2class = get_class_labels_map(paths)\n",
    "class2Id, Id2class"
   ]
  },
  {
   "cell_type": "markdown",
   "id": "e447fa07",
   "metadata": {},
   "source": [
    "### 2. Define preprocessing fucntions and device"
   ]
  },
  {
   "cell_type": "code",
   "execution_count": 7,
   "id": "16432e90",
   "metadata": {},
   "outputs": [],
   "source": [
    "IMAGE_HEIGHT, IMAGE_WIDTH = 224, 224\n",
    "INPUT_CHANNEL = 3\n",
    "NUM_CLASSES = len(class2Id)\n",
    "\n",
    "total_train_len = len(train_x)\n",
    "total_val_len = len(val_x)\n",
    "\n",
    "batch_size = 6"
   ]
  },
  {
   "cell_type": "code",
   "execution_count": 8,
   "id": "55f22d01",
   "metadata": {},
   "outputs": [],
   "source": [
    "def read_image(path):\n",
    "    x = cv2.imread(path, cv2.IMREAD_COLOR)\n",
    "    x = cv2.cvtColor(x, cv2.COLOR_BGR2RGB)\n",
    "    return x\n",
    "\n",
    "def preprocess_image(image):\n",
    "    x = image / 255.0\n",
    "    x = x.astype(np.float32)\n",
    "    x = np.moveaxis(x, -1, 0)\n",
    "    return x"
   ]
  },
  {
   "cell_type": "code",
   "execution_count": 9,
   "id": "19cad361",
   "metadata": {},
   "outputs": [],
   "source": [
    "train_transform = A.Compose(\n",
    "    [\n",
    "        A.HorizontalFlip(p=0.5),\n",
    "        A.Resize(width=IMAGE_WIDTH, height=IMAGE_HEIGHT, p=1.0),\n",
    "    ]\n",
    ")\n",
    "\n",
    "val_transform = A.Resize(width=IMAGE_WIDTH, height=IMAGE_HEIGHT, p=1.0)"
   ]
  },
  {
   "cell_type": "code",
   "execution_count": 10,
   "id": "8cb6d0c0",
   "metadata": {},
   "outputs": [
    {
     "data": {
      "text/plain": [
       "(device(type='cuda'), torch.device)"
      ]
     },
     "execution_count": 10,
     "metadata": {},
     "output_type": "execute_result"
    }
   ],
   "source": [
    "device = torch.device('cuda' if torch.cuda.is_available() else 'cpu')\n",
    "device, type(device)"
   ]
  },
  {
   "cell_type": "markdown",
   "id": "74d11a49",
   "metadata": {},
   "source": [
    "### 3. Define DataLoader"
   ]
  },
  {
   "cell_type": "code",
   "execution_count": 11,
   "id": "6837cef4",
   "metadata": {},
   "outputs": [],
   "source": [
    "# Inheriting from torch.utils.data.Dataset\n",
    "\n",
    "class DatasetPreprocessor(Dataset):\n",
    "    def __init__(self, inputs: list, targets: list, transform: A.Compose):\n",
    "        self.inputs = inputs\n",
    "        self.targets = targets\n",
    "        self.transform = transform\n",
    "\n",
    "    def __len__(self):\n",
    "        return len(self.inputs)\n",
    "\n",
    "    def __getitem__(self, index: int):\n",
    "        \n",
    "        # Select the sample\n",
    "        input_ID = self.inputs[index]\n",
    "        target_ID = self.targets[index]\n",
    "\n",
    "        # Read input\n",
    "        x = read_image(input_ID)\n",
    "        \n",
    "        # transformation\n",
    "        augmentations = self.transform(image=x)\n",
    "        x = augmentations[\"image\"]\n",
    "        \n",
    "        # preprocess\n",
    "        x = preprocess_image(x)\n",
    "        y = torch.tensor(target_ID, dtype=torch.long)\n",
    "        \n",
    "        return x, y"
   ]
  },
  {
   "cell_type": "code",
   "execution_count": 12,
   "id": "52bbf647",
   "metadata": {},
   "outputs": [
    {
     "data": {
      "text/plain": [
       "(1223, 525)"
      ]
     },
     "execution_count": 12,
     "metadata": {},
     "output_type": "execute_result"
    }
   ],
   "source": [
    "train_dataset = DatasetPreprocessor(train_x, train_y, train_transform)\n",
    "\n",
    "train_dataloader = DataLoader(\n",
    "                        dataset=train_dataset, \n",
    "                        batch_size=batch_size,\n",
    "                        shuffle=True, \n",
    "                        num_workers=0,\n",
    "                        pin_memory=True\n",
    "                    )\n",
    "\n",
    "val_dataset = DatasetPreprocessor(val_x, val_y, val_transform)\n",
    "\n",
    "val_dataloader = DataLoader(\n",
    "                    dataset=val_dataset, \n",
    "                    batch_size=batch_size,\n",
    "                    shuffle=False, \n",
    "                    num_workers=0,\n",
    "                    pin_memory=True\n",
    "                )\n",
    "\n",
    "len(train_dataloader), len(val_dataloader)"
   ]
  },
  {
   "cell_type": "markdown",
   "id": "35d990c9",
   "metadata": {},
   "source": [
    "### 4. Instantiate model"
   ]
  },
  {
   "cell_type": "code",
   "execution_count": 13,
   "id": "78ade690",
   "metadata": {},
   "outputs": [],
   "source": [
    "model = efficientnet_b5(weights=EfficientNet_B5_Weights.DEFAULT)\n",
    "model.classifier[-1] = torch.nn.Linear(in_features=2048, out_features=NUM_CLASSES, bias=True)"
   ]
  },
  {
   "cell_type": "code",
   "execution_count": 14,
   "id": "cce768ea",
   "metadata": {},
   "outputs": [
    {
     "data": {
      "text/plain": [
       "EfficientNet(\n",
       "  (features): Sequential(\n",
       "    (0): Conv2dNormActivation(\n",
       "      (0): Conv2d(3, 48, kernel_size=(3, 3), stride=(2, 2), padding=(1, 1), bias=False)\n",
       "      (1): BatchNorm2d(48, eps=0.001, momentum=0.01, affine=True, track_running_stats=True)\n",
       "      (2): SiLU(inplace=True)\n",
       "    )\n",
       "    (1): Sequential(\n",
       "      (0): MBConv(\n",
       "        (block): Sequential(\n",
       "          (0): Conv2dNormActivation(\n",
       "            (0): Conv2d(48, 48, kernel_size=(3, 3), stride=(1, 1), padding=(1, 1), groups=48, bias=False)\n",
       "            (1): BatchNorm2d(48, eps=0.001, momentum=0.01, affine=True, track_running_stats=True)\n",
       "            (2): SiLU(inplace=True)\n",
       "          )\n",
       "          (1): SqueezeExcitation(\n",
       "            (avgpool): AdaptiveAvgPool2d(output_size=1)\n",
       "            (fc1): Conv2d(48, 12, kernel_size=(1, 1), stride=(1, 1))\n",
       "            (fc2): Conv2d(12, 48, kernel_size=(1, 1), stride=(1, 1))\n",
       "            (activation): SiLU(inplace=True)\n",
       "            (scale_activation): Sigmoid()\n",
       "          )\n",
       "          (2): Conv2dNormActivation(\n",
       "            (0): Conv2d(48, 24, kernel_size=(1, 1), stride=(1, 1), bias=False)\n",
       "            (1): BatchNorm2d(24, eps=0.001, momentum=0.01, affine=True, track_running_stats=True)\n",
       "          )\n",
       "        )\n",
       "        (stochastic_depth): StochasticDepth(p=0.0, mode=row)\n",
       "      )\n",
       "      (1): MBConv(\n",
       "        (block): Sequential(\n",
       "          (0): Conv2dNormActivation(\n",
       "            (0): Conv2d(24, 24, kernel_size=(3, 3), stride=(1, 1), padding=(1, 1), groups=24, bias=False)\n",
       "            (1): BatchNorm2d(24, eps=0.001, momentum=0.01, affine=True, track_running_stats=True)\n",
       "            (2): SiLU(inplace=True)\n",
       "          )\n",
       "          (1): SqueezeExcitation(\n",
       "            (avgpool): AdaptiveAvgPool2d(output_size=1)\n",
       "            (fc1): Conv2d(24, 6, kernel_size=(1, 1), stride=(1, 1))\n",
       "            (fc2): Conv2d(6, 24, kernel_size=(1, 1), stride=(1, 1))\n",
       "            (activation): SiLU(inplace=True)\n",
       "            (scale_activation): Sigmoid()\n",
       "          )\n",
       "          (2): Conv2dNormActivation(\n",
       "            (0): Conv2d(24, 24, kernel_size=(1, 1), stride=(1, 1), bias=False)\n",
       "            (1): BatchNorm2d(24, eps=0.001, momentum=0.01, affine=True, track_running_stats=True)\n",
       "          )\n",
       "        )\n",
       "        (stochastic_depth): StochasticDepth(p=0.005128205128205128, mode=row)\n",
       "      )\n",
       "      (2): MBConv(\n",
       "        (block): Sequential(\n",
       "          (0): Conv2dNormActivation(\n",
       "            (0): Conv2d(24, 24, kernel_size=(3, 3), stride=(1, 1), padding=(1, 1), groups=24, bias=False)\n",
       "            (1): BatchNorm2d(24, eps=0.001, momentum=0.01, affine=True, track_running_stats=True)\n",
       "            (2): SiLU(inplace=True)\n",
       "          )\n",
       "          (1): SqueezeExcitation(\n",
       "            (avgpool): AdaptiveAvgPool2d(output_size=1)\n",
       "            (fc1): Conv2d(24, 6, kernel_size=(1, 1), stride=(1, 1))\n",
       "            (fc2): Conv2d(6, 24, kernel_size=(1, 1), stride=(1, 1))\n",
       "            (activation): SiLU(inplace=True)\n",
       "            (scale_activation): Sigmoid()\n",
       "          )\n",
       "          (2): Conv2dNormActivation(\n",
       "            (0): Conv2d(24, 24, kernel_size=(1, 1), stride=(1, 1), bias=False)\n",
       "            (1): BatchNorm2d(24, eps=0.001, momentum=0.01, affine=True, track_running_stats=True)\n",
       "          )\n",
       "        )\n",
       "        (stochastic_depth): StochasticDepth(p=0.010256410256410256, mode=row)\n",
       "      )\n",
       "    )\n",
       "    (2): Sequential(\n",
       "      (0): MBConv(\n",
       "        (block): Sequential(\n",
       "          (0): Conv2dNormActivation(\n",
       "            (0): Conv2d(24, 144, kernel_size=(1, 1), stride=(1, 1), bias=False)\n",
       "            (1): BatchNorm2d(144, eps=0.001, momentum=0.01, affine=True, track_running_stats=True)\n",
       "            (2): SiLU(inplace=True)\n",
       "          )\n",
       "          (1): Conv2dNormActivation(\n",
       "            (0): Conv2d(144, 144, kernel_size=(3, 3), stride=(2, 2), padding=(1, 1), groups=144, bias=False)\n",
       "            (1): BatchNorm2d(144, eps=0.001, momentum=0.01, affine=True, track_running_stats=True)\n",
       "            (2): SiLU(inplace=True)\n",
       "          )\n",
       "          (2): SqueezeExcitation(\n",
       "            (avgpool): AdaptiveAvgPool2d(output_size=1)\n",
       "            (fc1): Conv2d(144, 6, kernel_size=(1, 1), stride=(1, 1))\n",
       "            (fc2): Conv2d(6, 144, kernel_size=(1, 1), stride=(1, 1))\n",
       "            (activation): SiLU(inplace=True)\n",
       "            (scale_activation): Sigmoid()\n",
       "          )\n",
       "          (3): Conv2dNormActivation(\n",
       "            (0): Conv2d(144, 40, kernel_size=(1, 1), stride=(1, 1), bias=False)\n",
       "            (1): BatchNorm2d(40, eps=0.001, momentum=0.01, affine=True, track_running_stats=True)\n",
       "          )\n",
       "        )\n",
       "        (stochastic_depth): StochasticDepth(p=0.015384615384615387, mode=row)\n",
       "      )\n",
       "      (1): MBConv(\n",
       "        (block): Sequential(\n",
       "          (0): Conv2dNormActivation(\n",
       "            (0): Conv2d(40, 240, kernel_size=(1, 1), stride=(1, 1), bias=False)\n",
       "            (1): BatchNorm2d(240, eps=0.001, momentum=0.01, affine=True, track_running_stats=True)\n",
       "            (2): SiLU(inplace=True)\n",
       "          )\n",
       "          (1): Conv2dNormActivation(\n",
       "            (0): Conv2d(240, 240, kernel_size=(3, 3), stride=(1, 1), padding=(1, 1), groups=240, bias=False)\n",
       "            (1): BatchNorm2d(240, eps=0.001, momentum=0.01, affine=True, track_running_stats=True)\n",
       "            (2): SiLU(inplace=True)\n",
       "          )\n",
       "          (2): SqueezeExcitation(\n",
       "            (avgpool): AdaptiveAvgPool2d(output_size=1)\n",
       "            (fc1): Conv2d(240, 10, kernel_size=(1, 1), stride=(1, 1))\n",
       "            (fc2): Conv2d(10, 240, kernel_size=(1, 1), stride=(1, 1))\n",
       "            (activation): SiLU(inplace=True)\n",
       "            (scale_activation): Sigmoid()\n",
       "          )\n",
       "          (3): Conv2dNormActivation(\n",
       "            (0): Conv2d(240, 40, kernel_size=(1, 1), stride=(1, 1), bias=False)\n",
       "            (1): BatchNorm2d(40, eps=0.001, momentum=0.01, affine=True, track_running_stats=True)\n",
       "          )\n",
       "        )\n",
       "        (stochastic_depth): StochasticDepth(p=0.020512820512820513, mode=row)\n",
       "      )\n",
       "      (2): MBConv(\n",
       "        (block): Sequential(\n",
       "          (0): Conv2dNormActivation(\n",
       "            (0): Conv2d(40, 240, kernel_size=(1, 1), stride=(1, 1), bias=False)\n",
       "            (1): BatchNorm2d(240, eps=0.001, momentum=0.01, affine=True, track_running_stats=True)\n",
       "            (2): SiLU(inplace=True)\n",
       "          )\n",
       "          (1): Conv2dNormActivation(\n",
       "            (0): Conv2d(240, 240, kernel_size=(3, 3), stride=(1, 1), padding=(1, 1), groups=240, bias=False)\n",
       "            (1): BatchNorm2d(240, eps=0.001, momentum=0.01, affine=True, track_running_stats=True)\n",
       "            (2): SiLU(inplace=True)\n",
       "          )\n",
       "          (2): SqueezeExcitation(\n",
       "            (avgpool): AdaptiveAvgPool2d(output_size=1)\n",
       "            (fc1): Conv2d(240, 10, kernel_size=(1, 1), stride=(1, 1))\n",
       "            (fc2): Conv2d(10, 240, kernel_size=(1, 1), stride=(1, 1))\n",
       "            (activation): SiLU(inplace=True)\n",
       "            (scale_activation): Sigmoid()\n",
       "          )\n",
       "          (3): Conv2dNormActivation(\n",
       "            (0): Conv2d(240, 40, kernel_size=(1, 1), stride=(1, 1), bias=False)\n",
       "            (1): BatchNorm2d(40, eps=0.001, momentum=0.01, affine=True, track_running_stats=True)\n",
       "          )\n",
       "        )\n",
       "        (stochastic_depth): StochasticDepth(p=0.02564102564102564, mode=row)\n",
       "      )\n",
       "      (3): MBConv(\n",
       "        (block): Sequential(\n",
       "          (0): Conv2dNormActivation(\n",
       "            (0): Conv2d(40, 240, kernel_size=(1, 1), stride=(1, 1), bias=False)\n",
       "            (1): BatchNorm2d(240, eps=0.001, momentum=0.01, affine=True, track_running_stats=True)\n",
       "            (2): SiLU(inplace=True)\n",
       "          )\n",
       "          (1): Conv2dNormActivation(\n",
       "            (0): Conv2d(240, 240, kernel_size=(3, 3), stride=(1, 1), padding=(1, 1), groups=240, bias=False)\n",
       "            (1): BatchNorm2d(240, eps=0.001, momentum=0.01, affine=True, track_running_stats=True)\n",
       "            (2): SiLU(inplace=True)\n",
       "          )\n",
       "          (2): SqueezeExcitation(\n",
       "            (avgpool): AdaptiveAvgPool2d(output_size=1)\n",
       "            (fc1): Conv2d(240, 10, kernel_size=(1, 1), stride=(1, 1))\n",
       "            (fc2): Conv2d(10, 240, kernel_size=(1, 1), stride=(1, 1))\n",
       "            (activation): SiLU(inplace=True)\n",
       "            (scale_activation): Sigmoid()\n",
       "          )\n",
       "          (3): Conv2dNormActivation(\n",
       "            (0): Conv2d(240, 40, kernel_size=(1, 1), stride=(1, 1), bias=False)\n",
       "            (1): BatchNorm2d(40, eps=0.001, momentum=0.01, affine=True, track_running_stats=True)\n",
       "          )\n",
       "        )\n",
       "        (stochastic_depth): StochasticDepth(p=0.030769230769230774, mode=row)\n",
       "      )\n",
       "      (4): MBConv(\n",
       "        (block): Sequential(\n",
       "          (0): Conv2dNormActivation(\n",
       "            (0): Conv2d(40, 240, kernel_size=(1, 1), stride=(1, 1), bias=False)\n",
       "            (1): BatchNorm2d(240, eps=0.001, momentum=0.01, affine=True, track_running_stats=True)\n",
       "            (2): SiLU(inplace=True)\n",
       "          )\n",
       "          (1): Conv2dNormActivation(\n",
       "            (0): Conv2d(240, 240, kernel_size=(3, 3), stride=(1, 1), padding=(1, 1), groups=240, bias=False)\n",
       "            (1): BatchNorm2d(240, eps=0.001, momentum=0.01, affine=True, track_running_stats=True)\n",
       "            (2): SiLU(inplace=True)\n",
       "          )\n",
       "          (2): SqueezeExcitation(\n",
       "            (avgpool): AdaptiveAvgPool2d(output_size=1)\n",
       "            (fc1): Conv2d(240, 10, kernel_size=(1, 1), stride=(1, 1))\n",
       "            (fc2): Conv2d(10, 240, kernel_size=(1, 1), stride=(1, 1))\n",
       "            (activation): SiLU(inplace=True)\n",
       "            (scale_activation): Sigmoid()\n",
       "          )\n",
       "          (3): Conv2dNormActivation(\n",
       "            (0): Conv2d(240, 40, kernel_size=(1, 1), stride=(1, 1), bias=False)\n",
       "            (1): BatchNorm2d(40, eps=0.001, momentum=0.01, affine=True, track_running_stats=True)\n",
       "          )\n",
       "        )\n",
       "        (stochastic_depth): StochasticDepth(p=0.0358974358974359, mode=row)\n",
       "      )\n",
       "    )\n",
       "    (3): Sequential(\n",
       "      (0): MBConv(\n",
       "        (block): Sequential(\n",
       "          (0): Conv2dNormActivation(\n",
       "            (0): Conv2d(40, 240, kernel_size=(1, 1), stride=(1, 1), bias=False)\n",
       "            (1): BatchNorm2d(240, eps=0.001, momentum=0.01, affine=True, track_running_stats=True)\n",
       "            (2): SiLU(inplace=True)\n",
       "          )\n",
       "          (1): Conv2dNormActivation(\n",
       "            (0): Conv2d(240, 240, kernel_size=(5, 5), stride=(2, 2), padding=(2, 2), groups=240, bias=False)\n",
       "            (1): BatchNorm2d(240, eps=0.001, momentum=0.01, affine=True, track_running_stats=True)\n",
       "            (2): SiLU(inplace=True)\n",
       "          )\n",
       "          (2): SqueezeExcitation(\n",
       "            (avgpool): AdaptiveAvgPool2d(output_size=1)\n",
       "            (fc1): Conv2d(240, 10, kernel_size=(1, 1), stride=(1, 1))\n",
       "            (fc2): Conv2d(10, 240, kernel_size=(1, 1), stride=(1, 1))\n",
       "            (activation): SiLU(inplace=True)\n",
       "            (scale_activation): Sigmoid()\n",
       "          )\n",
       "          (3): Conv2dNormActivation(\n",
       "            (0): Conv2d(240, 64, kernel_size=(1, 1), stride=(1, 1), bias=False)\n",
       "            (1): BatchNorm2d(64, eps=0.001, momentum=0.01, affine=True, track_running_stats=True)\n",
       "          )\n",
       "        )\n",
       "        (stochastic_depth): StochasticDepth(p=0.041025641025641026, mode=row)\n",
       "      )\n",
       "      (1): MBConv(\n",
       "        (block): Sequential(\n",
       "          (0): Conv2dNormActivation(\n",
       "            (0): Conv2d(64, 384, kernel_size=(1, 1), stride=(1, 1), bias=False)\n",
       "            (1): BatchNorm2d(384, eps=0.001, momentum=0.01, affine=True, track_running_stats=True)\n",
       "            (2): SiLU(inplace=True)\n",
       "          )\n",
       "          (1): Conv2dNormActivation(\n",
       "            (0): Conv2d(384, 384, kernel_size=(5, 5), stride=(1, 1), padding=(2, 2), groups=384, bias=False)\n",
       "            (1): BatchNorm2d(384, eps=0.001, momentum=0.01, affine=True, track_running_stats=True)\n",
       "            (2): SiLU(inplace=True)\n",
       "          )\n",
       "          (2): SqueezeExcitation(\n",
       "            (avgpool): AdaptiveAvgPool2d(output_size=1)\n",
       "            (fc1): Conv2d(384, 16, kernel_size=(1, 1), stride=(1, 1))\n",
       "            (fc2): Conv2d(16, 384, kernel_size=(1, 1), stride=(1, 1))\n",
       "            (activation): SiLU(inplace=True)\n",
       "            (scale_activation): Sigmoid()\n",
       "          )\n",
       "          (3): Conv2dNormActivation(\n",
       "            (0): Conv2d(384, 64, kernel_size=(1, 1), stride=(1, 1), bias=False)\n",
       "            (1): BatchNorm2d(64, eps=0.001, momentum=0.01, affine=True, track_running_stats=True)\n",
       "          )\n",
       "        )\n",
       "        (stochastic_depth): StochasticDepth(p=0.046153846153846156, mode=row)\n",
       "      )\n",
       "      (2): MBConv(\n",
       "        (block): Sequential(\n",
       "          (0): Conv2dNormActivation(\n",
       "            (0): Conv2d(64, 384, kernel_size=(1, 1), stride=(1, 1), bias=False)\n",
       "            (1): BatchNorm2d(384, eps=0.001, momentum=0.01, affine=True, track_running_stats=True)\n",
       "            (2): SiLU(inplace=True)\n",
       "          )\n",
       "          (1): Conv2dNormActivation(\n",
       "            (0): Conv2d(384, 384, kernel_size=(5, 5), stride=(1, 1), padding=(2, 2), groups=384, bias=False)\n",
       "            (1): BatchNorm2d(384, eps=0.001, momentum=0.01, affine=True, track_running_stats=True)\n",
       "            (2): SiLU(inplace=True)\n",
       "          )\n",
       "          (2): SqueezeExcitation(\n",
       "            (avgpool): AdaptiveAvgPool2d(output_size=1)\n",
       "            (fc1): Conv2d(384, 16, kernel_size=(1, 1), stride=(1, 1))\n",
       "            (fc2): Conv2d(16, 384, kernel_size=(1, 1), stride=(1, 1))\n",
       "            (activation): SiLU(inplace=True)\n",
       "            (scale_activation): Sigmoid()\n",
       "          )\n",
       "          (3): Conv2dNormActivation(\n",
       "            (0): Conv2d(384, 64, kernel_size=(1, 1), stride=(1, 1), bias=False)\n",
       "            (1): BatchNorm2d(64, eps=0.001, momentum=0.01, affine=True, track_running_stats=True)\n",
       "          )\n",
       "        )\n",
       "        (stochastic_depth): StochasticDepth(p=0.05128205128205128, mode=row)\n",
       "      )\n",
       "      (3): MBConv(\n",
       "        (block): Sequential(\n",
       "          (0): Conv2dNormActivation(\n",
       "            (0): Conv2d(64, 384, kernel_size=(1, 1), stride=(1, 1), bias=False)\n",
       "            (1): BatchNorm2d(384, eps=0.001, momentum=0.01, affine=True, track_running_stats=True)\n",
       "            (2): SiLU(inplace=True)\n",
       "          )\n",
       "          (1): Conv2dNormActivation(\n",
       "            (0): Conv2d(384, 384, kernel_size=(5, 5), stride=(1, 1), padding=(2, 2), groups=384, bias=False)\n",
       "            (1): BatchNorm2d(384, eps=0.001, momentum=0.01, affine=True, track_running_stats=True)\n",
       "            (2): SiLU(inplace=True)\n",
       "          )\n",
       "          (2): SqueezeExcitation(\n",
       "            (avgpool): AdaptiveAvgPool2d(output_size=1)\n",
       "            (fc1): Conv2d(384, 16, kernel_size=(1, 1), stride=(1, 1))\n",
       "            (fc2): Conv2d(16, 384, kernel_size=(1, 1), stride=(1, 1))\n",
       "            (activation): SiLU(inplace=True)\n",
       "            (scale_activation): Sigmoid()\n",
       "          )\n",
       "          (3): Conv2dNormActivation(\n",
       "            (0): Conv2d(384, 64, kernel_size=(1, 1), stride=(1, 1), bias=False)\n",
       "            (1): BatchNorm2d(64, eps=0.001, momentum=0.01, affine=True, track_running_stats=True)\n",
       "          )\n",
       "        )\n",
       "        (stochastic_depth): StochasticDepth(p=0.05641025641025642, mode=row)\n",
       "      )\n",
       "      (4): MBConv(\n",
       "        (block): Sequential(\n",
       "          (0): Conv2dNormActivation(\n",
       "            (0): Conv2d(64, 384, kernel_size=(1, 1), stride=(1, 1), bias=False)\n",
       "            (1): BatchNorm2d(384, eps=0.001, momentum=0.01, affine=True, track_running_stats=True)\n",
       "            (2): SiLU(inplace=True)\n",
       "          )\n",
       "          (1): Conv2dNormActivation(\n",
       "            (0): Conv2d(384, 384, kernel_size=(5, 5), stride=(1, 1), padding=(2, 2), groups=384, bias=False)\n",
       "            (1): BatchNorm2d(384, eps=0.001, momentum=0.01, affine=True, track_running_stats=True)\n",
       "            (2): SiLU(inplace=True)\n",
       "          )\n",
       "          (2): SqueezeExcitation(\n",
       "            (avgpool): AdaptiveAvgPool2d(output_size=1)\n",
       "            (fc1): Conv2d(384, 16, kernel_size=(1, 1), stride=(1, 1))\n",
       "            (fc2): Conv2d(16, 384, kernel_size=(1, 1), stride=(1, 1))\n",
       "            (activation): SiLU(inplace=True)\n",
       "            (scale_activation): Sigmoid()\n",
       "          )\n",
       "          (3): Conv2dNormActivation(\n",
       "            (0): Conv2d(384, 64, kernel_size=(1, 1), stride=(1, 1), bias=False)\n",
       "            (1): BatchNorm2d(64, eps=0.001, momentum=0.01, affine=True, track_running_stats=True)\n",
       "          )\n",
       "        )\n",
       "        (stochastic_depth): StochasticDepth(p=0.06153846153846155, mode=row)\n",
       "      )\n",
       "    )\n",
       "    (4): Sequential(\n",
       "      (0): MBConv(\n",
       "        (block): Sequential(\n",
       "          (0): Conv2dNormActivation(\n",
       "            (0): Conv2d(64, 384, kernel_size=(1, 1), stride=(1, 1), bias=False)\n",
       "            (1): BatchNorm2d(384, eps=0.001, momentum=0.01, affine=True, track_running_stats=True)\n",
       "            (2): SiLU(inplace=True)\n",
       "          )\n",
       "          (1): Conv2dNormActivation(\n",
       "            (0): Conv2d(384, 384, kernel_size=(3, 3), stride=(2, 2), padding=(1, 1), groups=384, bias=False)\n",
       "            (1): BatchNorm2d(384, eps=0.001, momentum=0.01, affine=True, track_running_stats=True)\n",
       "            (2): SiLU(inplace=True)\n",
       "          )\n",
       "          (2): SqueezeExcitation(\n",
       "            (avgpool): AdaptiveAvgPool2d(output_size=1)\n",
       "            (fc1): Conv2d(384, 16, kernel_size=(1, 1), stride=(1, 1))\n",
       "            (fc2): Conv2d(16, 384, kernel_size=(1, 1), stride=(1, 1))\n",
       "            (activation): SiLU(inplace=True)\n",
       "            (scale_activation): Sigmoid()\n",
       "          )\n",
       "          (3): Conv2dNormActivation(\n",
       "            (0): Conv2d(384, 128, kernel_size=(1, 1), stride=(1, 1), bias=False)\n",
       "            (1): BatchNorm2d(128, eps=0.001, momentum=0.01, affine=True, track_running_stats=True)\n",
       "          )\n",
       "        )\n",
       "        (stochastic_depth): StochasticDepth(p=0.06666666666666667, mode=row)\n",
       "      )\n",
       "      (1): MBConv(\n",
       "        (block): Sequential(\n",
       "          (0): Conv2dNormActivation(\n",
       "            (0): Conv2d(128, 768, kernel_size=(1, 1), stride=(1, 1), bias=False)\n",
       "            (1): BatchNorm2d(768, eps=0.001, momentum=0.01, affine=True, track_running_stats=True)\n",
       "            (2): SiLU(inplace=True)\n",
       "          )\n",
       "          (1): Conv2dNormActivation(\n",
       "            (0): Conv2d(768, 768, kernel_size=(3, 3), stride=(1, 1), padding=(1, 1), groups=768, bias=False)\n",
       "            (1): BatchNorm2d(768, eps=0.001, momentum=0.01, affine=True, track_running_stats=True)\n",
       "            (2): SiLU(inplace=True)\n",
       "          )\n",
       "          (2): SqueezeExcitation(\n",
       "            (avgpool): AdaptiveAvgPool2d(output_size=1)\n",
       "            (fc1): Conv2d(768, 32, kernel_size=(1, 1), stride=(1, 1))\n",
       "            (fc2): Conv2d(32, 768, kernel_size=(1, 1), stride=(1, 1))\n",
       "            (activation): SiLU(inplace=True)\n",
       "            (scale_activation): Sigmoid()\n",
       "          )\n",
       "          (3): Conv2dNormActivation(\n",
       "            (0): Conv2d(768, 128, kernel_size=(1, 1), stride=(1, 1), bias=False)\n",
       "            (1): BatchNorm2d(128, eps=0.001, momentum=0.01, affine=True, track_running_stats=True)\n",
       "          )\n",
       "        )\n",
       "        (stochastic_depth): StochasticDepth(p=0.0717948717948718, mode=row)\n",
       "      )\n",
       "      (2): MBConv(\n",
       "        (block): Sequential(\n",
       "          (0): Conv2dNormActivation(\n",
       "            (0): Conv2d(128, 768, kernel_size=(1, 1), stride=(1, 1), bias=False)\n",
       "            (1): BatchNorm2d(768, eps=0.001, momentum=0.01, affine=True, track_running_stats=True)\n",
       "            (2): SiLU(inplace=True)\n",
       "          )\n",
       "          (1): Conv2dNormActivation(\n",
       "            (0): Conv2d(768, 768, kernel_size=(3, 3), stride=(1, 1), padding=(1, 1), groups=768, bias=False)\n",
       "            (1): BatchNorm2d(768, eps=0.001, momentum=0.01, affine=True, track_running_stats=True)\n",
       "            (2): SiLU(inplace=True)\n",
       "          )\n",
       "          (2): SqueezeExcitation(\n",
       "            (avgpool): AdaptiveAvgPool2d(output_size=1)\n",
       "            (fc1): Conv2d(768, 32, kernel_size=(1, 1), stride=(1, 1))\n",
       "            (fc2): Conv2d(32, 768, kernel_size=(1, 1), stride=(1, 1))\n",
       "            (activation): SiLU(inplace=True)\n",
       "            (scale_activation): Sigmoid()\n",
       "          )\n",
       "          (3): Conv2dNormActivation(\n",
       "            (0): Conv2d(768, 128, kernel_size=(1, 1), stride=(1, 1), bias=False)\n",
       "            (1): BatchNorm2d(128, eps=0.001, momentum=0.01, affine=True, track_running_stats=True)\n",
       "          )\n",
       "        )\n",
       "        (stochastic_depth): StochasticDepth(p=0.07692307692307693, mode=row)\n",
       "      )\n",
       "      (3): MBConv(\n",
       "        (block): Sequential(\n",
       "          (0): Conv2dNormActivation(\n",
       "            (0): Conv2d(128, 768, kernel_size=(1, 1), stride=(1, 1), bias=False)\n",
       "            (1): BatchNorm2d(768, eps=0.001, momentum=0.01, affine=True, track_running_stats=True)\n",
       "            (2): SiLU(inplace=True)\n",
       "          )\n",
       "          (1): Conv2dNormActivation(\n",
       "            (0): Conv2d(768, 768, kernel_size=(3, 3), stride=(1, 1), padding=(1, 1), groups=768, bias=False)\n",
       "            (1): BatchNorm2d(768, eps=0.001, momentum=0.01, affine=True, track_running_stats=True)\n",
       "            (2): SiLU(inplace=True)\n",
       "          )\n",
       "          (2): SqueezeExcitation(\n",
       "            (avgpool): AdaptiveAvgPool2d(output_size=1)\n",
       "            (fc1): Conv2d(768, 32, kernel_size=(1, 1), stride=(1, 1))\n",
       "            (fc2): Conv2d(32, 768, kernel_size=(1, 1), stride=(1, 1))\n",
       "            (activation): SiLU(inplace=True)\n",
       "            (scale_activation): Sigmoid()\n",
       "          )\n",
       "          (3): Conv2dNormActivation(\n",
       "            (0): Conv2d(768, 128, kernel_size=(1, 1), stride=(1, 1), bias=False)\n",
       "            (1): BatchNorm2d(128, eps=0.001, momentum=0.01, affine=True, track_running_stats=True)\n",
       "          )\n",
       "        )\n",
       "        (stochastic_depth): StochasticDepth(p=0.08205128205128205, mode=row)\n",
       "      )\n",
       "      (4): MBConv(\n",
       "        (block): Sequential(\n",
       "          (0): Conv2dNormActivation(\n",
       "            (0): Conv2d(128, 768, kernel_size=(1, 1), stride=(1, 1), bias=False)\n",
       "            (1): BatchNorm2d(768, eps=0.001, momentum=0.01, affine=True, track_running_stats=True)\n",
       "            (2): SiLU(inplace=True)\n",
       "          )\n",
       "          (1): Conv2dNormActivation(\n",
       "            (0): Conv2d(768, 768, kernel_size=(3, 3), stride=(1, 1), padding=(1, 1), groups=768, bias=False)\n",
       "            (1): BatchNorm2d(768, eps=0.001, momentum=0.01, affine=True, track_running_stats=True)\n",
       "            (2): SiLU(inplace=True)\n",
       "          )\n",
       "          (2): SqueezeExcitation(\n",
       "            (avgpool): AdaptiveAvgPool2d(output_size=1)\n",
       "            (fc1): Conv2d(768, 32, kernel_size=(1, 1), stride=(1, 1))\n",
       "            (fc2): Conv2d(32, 768, kernel_size=(1, 1), stride=(1, 1))\n",
       "            (activation): SiLU(inplace=True)\n",
       "            (scale_activation): Sigmoid()\n",
       "          )\n",
       "          (3): Conv2dNormActivation(\n",
       "            (0): Conv2d(768, 128, kernel_size=(1, 1), stride=(1, 1), bias=False)\n",
       "            (1): BatchNorm2d(128, eps=0.001, momentum=0.01, affine=True, track_running_stats=True)\n",
       "          )\n",
       "        )\n",
       "        (stochastic_depth): StochasticDepth(p=0.08717948717948719, mode=row)\n",
       "      )\n",
       "      (5): MBConv(\n",
       "        (block): Sequential(\n",
       "          (0): Conv2dNormActivation(\n",
       "            (0): Conv2d(128, 768, kernel_size=(1, 1), stride=(1, 1), bias=False)\n",
       "            (1): BatchNorm2d(768, eps=0.001, momentum=0.01, affine=True, track_running_stats=True)\n",
       "            (2): SiLU(inplace=True)\n",
       "          )\n",
       "          (1): Conv2dNormActivation(\n",
       "            (0): Conv2d(768, 768, kernel_size=(3, 3), stride=(1, 1), padding=(1, 1), groups=768, bias=False)\n",
       "            (1): BatchNorm2d(768, eps=0.001, momentum=0.01, affine=True, track_running_stats=True)\n",
       "            (2): SiLU(inplace=True)\n",
       "          )\n",
       "          (2): SqueezeExcitation(\n",
       "            (avgpool): AdaptiveAvgPool2d(output_size=1)\n",
       "            (fc1): Conv2d(768, 32, kernel_size=(1, 1), stride=(1, 1))\n",
       "            (fc2): Conv2d(32, 768, kernel_size=(1, 1), stride=(1, 1))\n",
       "            (activation): SiLU(inplace=True)\n",
       "            (scale_activation): Sigmoid()\n",
       "          )\n",
       "          (3): Conv2dNormActivation(\n",
       "            (0): Conv2d(768, 128, kernel_size=(1, 1), stride=(1, 1), bias=False)\n",
       "            (1): BatchNorm2d(128, eps=0.001, momentum=0.01, affine=True, track_running_stats=True)\n",
       "          )\n",
       "        )\n",
       "        (stochastic_depth): StochasticDepth(p=0.09230769230769231, mode=row)\n",
       "      )\n",
       "      (6): MBConv(\n",
       "        (block): Sequential(\n",
       "          (0): Conv2dNormActivation(\n",
       "            (0): Conv2d(128, 768, kernel_size=(1, 1), stride=(1, 1), bias=False)\n",
       "            (1): BatchNorm2d(768, eps=0.001, momentum=0.01, affine=True, track_running_stats=True)\n",
       "            (2): SiLU(inplace=True)\n",
       "          )\n",
       "          (1): Conv2dNormActivation(\n",
       "            (0): Conv2d(768, 768, kernel_size=(3, 3), stride=(1, 1), padding=(1, 1), groups=768, bias=False)\n",
       "            (1): BatchNorm2d(768, eps=0.001, momentum=0.01, affine=True, track_running_stats=True)\n",
       "            (2): SiLU(inplace=True)\n",
       "          )\n",
       "          (2): SqueezeExcitation(\n",
       "            (avgpool): AdaptiveAvgPool2d(output_size=1)\n",
       "            (fc1): Conv2d(768, 32, kernel_size=(1, 1), stride=(1, 1))\n",
       "            (fc2): Conv2d(32, 768, kernel_size=(1, 1), stride=(1, 1))\n",
       "            (activation): SiLU(inplace=True)\n",
       "            (scale_activation): Sigmoid()\n",
       "          )\n",
       "          (3): Conv2dNormActivation(\n",
       "            (0): Conv2d(768, 128, kernel_size=(1, 1), stride=(1, 1), bias=False)\n",
       "            (1): BatchNorm2d(128, eps=0.001, momentum=0.01, affine=True, track_running_stats=True)\n",
       "          )\n",
       "        )\n",
       "        (stochastic_depth): StochasticDepth(p=0.09743589743589744, mode=row)\n",
       "      )\n",
       "    )\n",
       "    (5): Sequential(\n",
       "      (0): MBConv(\n",
       "        (block): Sequential(\n",
       "          (0): Conv2dNormActivation(\n",
       "            (0): Conv2d(128, 768, kernel_size=(1, 1), stride=(1, 1), bias=False)\n",
       "            (1): BatchNorm2d(768, eps=0.001, momentum=0.01, affine=True, track_running_stats=True)\n",
       "            (2): SiLU(inplace=True)\n",
       "          )\n",
       "          (1): Conv2dNormActivation(\n",
       "            (0): Conv2d(768, 768, kernel_size=(5, 5), stride=(1, 1), padding=(2, 2), groups=768, bias=False)\n",
       "            (1): BatchNorm2d(768, eps=0.001, momentum=0.01, affine=True, track_running_stats=True)\n",
       "            (2): SiLU(inplace=True)\n",
       "          )\n",
       "          (2): SqueezeExcitation(\n",
       "            (avgpool): AdaptiveAvgPool2d(output_size=1)\n",
       "            (fc1): Conv2d(768, 32, kernel_size=(1, 1), stride=(1, 1))\n",
       "            (fc2): Conv2d(32, 768, kernel_size=(1, 1), stride=(1, 1))\n",
       "            (activation): SiLU(inplace=True)\n",
       "            (scale_activation): Sigmoid()\n",
       "          )\n",
       "          (3): Conv2dNormActivation(\n",
       "            (0): Conv2d(768, 176, kernel_size=(1, 1), stride=(1, 1), bias=False)\n",
       "            (1): BatchNorm2d(176, eps=0.001, momentum=0.01, affine=True, track_running_stats=True)\n",
       "          )\n",
       "        )\n",
       "        (stochastic_depth): StochasticDepth(p=0.10256410256410256, mode=row)\n",
       "      )\n",
       "      (1): MBConv(\n",
       "        (block): Sequential(\n",
       "          (0): Conv2dNormActivation(\n",
       "            (0): Conv2d(176, 1056, kernel_size=(1, 1), stride=(1, 1), bias=False)\n",
       "            (1): BatchNorm2d(1056, eps=0.001, momentum=0.01, affine=True, track_running_stats=True)\n",
       "            (2): SiLU(inplace=True)\n",
       "          )\n",
       "          (1): Conv2dNormActivation(\n",
       "            (0): Conv2d(1056, 1056, kernel_size=(5, 5), stride=(1, 1), padding=(2, 2), groups=1056, bias=False)\n",
       "            (1): BatchNorm2d(1056, eps=0.001, momentum=0.01, affine=True, track_running_stats=True)\n",
       "            (2): SiLU(inplace=True)\n",
       "          )\n",
       "          (2): SqueezeExcitation(\n",
       "            (avgpool): AdaptiveAvgPool2d(output_size=1)\n",
       "            (fc1): Conv2d(1056, 44, kernel_size=(1, 1), stride=(1, 1))\n",
       "            (fc2): Conv2d(44, 1056, kernel_size=(1, 1), stride=(1, 1))\n",
       "            (activation): SiLU(inplace=True)\n",
       "            (scale_activation): Sigmoid()\n",
       "          )\n",
       "          (3): Conv2dNormActivation(\n",
       "            (0): Conv2d(1056, 176, kernel_size=(1, 1), stride=(1, 1), bias=False)\n",
       "            (1): BatchNorm2d(176, eps=0.001, momentum=0.01, affine=True, track_running_stats=True)\n",
       "          )\n",
       "        )\n",
       "        (stochastic_depth): StochasticDepth(p=0.1076923076923077, mode=row)\n",
       "      )\n",
       "      (2): MBConv(\n",
       "        (block): Sequential(\n",
       "          (0): Conv2dNormActivation(\n",
       "            (0): Conv2d(176, 1056, kernel_size=(1, 1), stride=(1, 1), bias=False)\n",
       "            (1): BatchNorm2d(1056, eps=0.001, momentum=0.01, affine=True, track_running_stats=True)\n",
       "            (2): SiLU(inplace=True)\n",
       "          )\n",
       "          (1): Conv2dNormActivation(\n",
       "            (0): Conv2d(1056, 1056, kernel_size=(5, 5), stride=(1, 1), padding=(2, 2), groups=1056, bias=False)\n",
       "            (1): BatchNorm2d(1056, eps=0.001, momentum=0.01, affine=True, track_running_stats=True)\n",
       "            (2): SiLU(inplace=True)\n",
       "          )\n",
       "          (2): SqueezeExcitation(\n",
       "            (avgpool): AdaptiveAvgPool2d(output_size=1)\n",
       "            (fc1): Conv2d(1056, 44, kernel_size=(1, 1), stride=(1, 1))\n",
       "            (fc2): Conv2d(44, 1056, kernel_size=(1, 1), stride=(1, 1))\n",
       "            (activation): SiLU(inplace=True)\n",
       "            (scale_activation): Sigmoid()\n",
       "          )\n",
       "          (3): Conv2dNormActivation(\n",
       "            (0): Conv2d(1056, 176, kernel_size=(1, 1), stride=(1, 1), bias=False)\n",
       "            (1): BatchNorm2d(176, eps=0.001, momentum=0.01, affine=True, track_running_stats=True)\n",
       "          )\n",
       "        )\n",
       "        (stochastic_depth): StochasticDepth(p=0.11282051282051284, mode=row)\n",
       "      )\n",
       "      (3): MBConv(\n",
       "        (block): Sequential(\n",
       "          (0): Conv2dNormActivation(\n",
       "            (0): Conv2d(176, 1056, kernel_size=(1, 1), stride=(1, 1), bias=False)\n",
       "            (1): BatchNorm2d(1056, eps=0.001, momentum=0.01, affine=True, track_running_stats=True)\n",
       "            (2): SiLU(inplace=True)\n",
       "          )\n",
       "          (1): Conv2dNormActivation(\n",
       "            (0): Conv2d(1056, 1056, kernel_size=(5, 5), stride=(1, 1), padding=(2, 2), groups=1056, bias=False)\n",
       "            (1): BatchNorm2d(1056, eps=0.001, momentum=0.01, affine=True, track_running_stats=True)\n",
       "            (2): SiLU(inplace=True)\n",
       "          )\n",
       "          (2): SqueezeExcitation(\n",
       "            (avgpool): AdaptiveAvgPool2d(output_size=1)\n",
       "            (fc1): Conv2d(1056, 44, kernel_size=(1, 1), stride=(1, 1))\n",
       "            (fc2): Conv2d(44, 1056, kernel_size=(1, 1), stride=(1, 1))\n",
       "            (activation): SiLU(inplace=True)\n",
       "            (scale_activation): Sigmoid()\n",
       "          )\n",
       "          (3): Conv2dNormActivation(\n",
       "            (0): Conv2d(1056, 176, kernel_size=(1, 1), stride=(1, 1), bias=False)\n",
       "            (1): BatchNorm2d(176, eps=0.001, momentum=0.01, affine=True, track_running_stats=True)\n",
       "          )\n",
       "        )\n",
       "        (stochastic_depth): StochasticDepth(p=0.11794871794871796, mode=row)\n",
       "      )\n",
       "      (4): MBConv(\n",
       "        (block): Sequential(\n",
       "          (0): Conv2dNormActivation(\n",
       "            (0): Conv2d(176, 1056, kernel_size=(1, 1), stride=(1, 1), bias=False)\n",
       "            (1): BatchNorm2d(1056, eps=0.001, momentum=0.01, affine=True, track_running_stats=True)\n",
       "            (2): SiLU(inplace=True)\n",
       "          )\n",
       "          (1): Conv2dNormActivation(\n",
       "            (0): Conv2d(1056, 1056, kernel_size=(5, 5), stride=(1, 1), padding=(2, 2), groups=1056, bias=False)\n",
       "            (1): BatchNorm2d(1056, eps=0.001, momentum=0.01, affine=True, track_running_stats=True)\n",
       "            (2): SiLU(inplace=True)\n",
       "          )\n",
       "          (2): SqueezeExcitation(\n",
       "            (avgpool): AdaptiveAvgPool2d(output_size=1)\n",
       "            (fc1): Conv2d(1056, 44, kernel_size=(1, 1), stride=(1, 1))\n",
       "            (fc2): Conv2d(44, 1056, kernel_size=(1, 1), stride=(1, 1))\n",
       "            (activation): SiLU(inplace=True)\n",
       "            (scale_activation): Sigmoid()\n",
       "          )\n",
       "          (3): Conv2dNormActivation(\n",
       "            (0): Conv2d(1056, 176, kernel_size=(1, 1), stride=(1, 1), bias=False)\n",
       "            (1): BatchNorm2d(176, eps=0.001, momentum=0.01, affine=True, track_running_stats=True)\n",
       "          )\n",
       "        )\n",
       "        (stochastic_depth): StochasticDepth(p=0.1230769230769231, mode=row)\n",
       "      )\n",
       "      (5): MBConv(\n",
       "        (block): Sequential(\n",
       "          (0): Conv2dNormActivation(\n",
       "            (0): Conv2d(176, 1056, kernel_size=(1, 1), stride=(1, 1), bias=False)\n",
       "            (1): BatchNorm2d(1056, eps=0.001, momentum=0.01, affine=True, track_running_stats=True)\n",
       "            (2): SiLU(inplace=True)\n",
       "          )\n",
       "          (1): Conv2dNormActivation(\n",
       "            (0): Conv2d(1056, 1056, kernel_size=(5, 5), stride=(1, 1), padding=(2, 2), groups=1056, bias=False)\n",
       "            (1): BatchNorm2d(1056, eps=0.001, momentum=0.01, affine=True, track_running_stats=True)\n",
       "            (2): SiLU(inplace=True)\n",
       "          )\n",
       "          (2): SqueezeExcitation(\n",
       "            (avgpool): AdaptiveAvgPool2d(output_size=1)\n",
       "            (fc1): Conv2d(1056, 44, kernel_size=(1, 1), stride=(1, 1))\n",
       "            (fc2): Conv2d(44, 1056, kernel_size=(1, 1), stride=(1, 1))\n",
       "            (activation): SiLU(inplace=True)\n",
       "            (scale_activation): Sigmoid()\n",
       "          )\n",
       "          (3): Conv2dNormActivation(\n",
       "            (0): Conv2d(1056, 176, kernel_size=(1, 1), stride=(1, 1), bias=False)\n",
       "            (1): BatchNorm2d(176, eps=0.001, momentum=0.01, affine=True, track_running_stats=True)\n",
       "          )\n",
       "        )\n",
       "        (stochastic_depth): StochasticDepth(p=0.1282051282051282, mode=row)\n",
       "      )\n",
       "      (6): MBConv(\n",
       "        (block): Sequential(\n",
       "          (0): Conv2dNormActivation(\n",
       "            (0): Conv2d(176, 1056, kernel_size=(1, 1), stride=(1, 1), bias=False)\n",
       "            (1): BatchNorm2d(1056, eps=0.001, momentum=0.01, affine=True, track_running_stats=True)\n",
       "            (2): SiLU(inplace=True)\n",
       "          )\n",
       "          (1): Conv2dNormActivation(\n",
       "            (0): Conv2d(1056, 1056, kernel_size=(5, 5), stride=(1, 1), padding=(2, 2), groups=1056, bias=False)\n",
       "            (1): BatchNorm2d(1056, eps=0.001, momentum=0.01, affine=True, track_running_stats=True)\n",
       "            (2): SiLU(inplace=True)\n",
       "          )\n",
       "          (2): SqueezeExcitation(\n",
       "            (avgpool): AdaptiveAvgPool2d(output_size=1)\n",
       "            (fc1): Conv2d(1056, 44, kernel_size=(1, 1), stride=(1, 1))\n",
       "            (fc2): Conv2d(44, 1056, kernel_size=(1, 1), stride=(1, 1))\n",
       "            (activation): SiLU(inplace=True)\n",
       "            (scale_activation): Sigmoid()\n",
       "          )\n",
       "          (3): Conv2dNormActivation(\n",
       "            (0): Conv2d(1056, 176, kernel_size=(1, 1), stride=(1, 1), bias=False)\n",
       "            (1): BatchNorm2d(176, eps=0.001, momentum=0.01, affine=True, track_running_stats=True)\n",
       "          )\n",
       "        )\n",
       "        (stochastic_depth): StochasticDepth(p=0.13333333333333333, mode=row)\n",
       "      )\n",
       "    )\n",
       "    (6): Sequential(\n",
       "      (0): MBConv(\n",
       "        (block): Sequential(\n",
       "          (0): Conv2dNormActivation(\n",
       "            (0): Conv2d(176, 1056, kernel_size=(1, 1), stride=(1, 1), bias=False)\n",
       "            (1): BatchNorm2d(1056, eps=0.001, momentum=0.01, affine=True, track_running_stats=True)\n",
       "            (2): SiLU(inplace=True)\n",
       "          )\n",
       "          (1): Conv2dNormActivation(\n",
       "            (0): Conv2d(1056, 1056, kernel_size=(5, 5), stride=(2, 2), padding=(2, 2), groups=1056, bias=False)\n",
       "            (1): BatchNorm2d(1056, eps=0.001, momentum=0.01, affine=True, track_running_stats=True)\n",
       "            (2): SiLU(inplace=True)\n",
       "          )\n",
       "          (2): SqueezeExcitation(\n",
       "            (avgpool): AdaptiveAvgPool2d(output_size=1)\n",
       "            (fc1): Conv2d(1056, 44, kernel_size=(1, 1), stride=(1, 1))\n",
       "            (fc2): Conv2d(44, 1056, kernel_size=(1, 1), stride=(1, 1))\n",
       "            (activation): SiLU(inplace=True)\n",
       "            (scale_activation): Sigmoid()\n",
       "          )\n",
       "          (3): Conv2dNormActivation(\n",
       "            (0): Conv2d(1056, 304, kernel_size=(1, 1), stride=(1, 1), bias=False)\n",
       "            (1): BatchNorm2d(304, eps=0.001, momentum=0.01, affine=True, track_running_stats=True)\n",
       "          )\n",
       "        )\n",
       "        (stochastic_depth): StochasticDepth(p=0.13846153846153847, mode=row)\n",
       "      )\n",
       "      (1): MBConv(\n",
       "        (block): Sequential(\n",
       "          (0): Conv2dNormActivation(\n",
       "            (0): Conv2d(304, 1824, kernel_size=(1, 1), stride=(1, 1), bias=False)\n",
       "            (1): BatchNorm2d(1824, eps=0.001, momentum=0.01, affine=True, track_running_stats=True)\n",
       "            (2): SiLU(inplace=True)\n",
       "          )\n",
       "          (1): Conv2dNormActivation(\n",
       "            (0): Conv2d(1824, 1824, kernel_size=(5, 5), stride=(1, 1), padding=(2, 2), groups=1824, bias=False)\n",
       "            (1): BatchNorm2d(1824, eps=0.001, momentum=0.01, affine=True, track_running_stats=True)\n",
       "            (2): SiLU(inplace=True)\n",
       "          )\n",
       "          (2): SqueezeExcitation(\n",
       "            (avgpool): AdaptiveAvgPool2d(output_size=1)\n",
       "            (fc1): Conv2d(1824, 76, kernel_size=(1, 1), stride=(1, 1))\n",
       "            (fc2): Conv2d(76, 1824, kernel_size=(1, 1), stride=(1, 1))\n",
       "            (activation): SiLU(inplace=True)\n",
       "            (scale_activation): Sigmoid()\n",
       "          )\n",
       "          (3): Conv2dNormActivation(\n",
       "            (0): Conv2d(1824, 304, kernel_size=(1, 1), stride=(1, 1), bias=False)\n",
       "            (1): BatchNorm2d(304, eps=0.001, momentum=0.01, affine=True, track_running_stats=True)\n",
       "          )\n",
       "        )\n",
       "        (stochastic_depth): StochasticDepth(p=0.1435897435897436, mode=row)\n",
       "      )\n",
       "      (2): MBConv(\n",
       "        (block): Sequential(\n",
       "          (0): Conv2dNormActivation(\n",
       "            (0): Conv2d(304, 1824, kernel_size=(1, 1), stride=(1, 1), bias=False)\n",
       "            (1): BatchNorm2d(1824, eps=0.001, momentum=0.01, affine=True, track_running_stats=True)\n",
       "            (2): SiLU(inplace=True)\n",
       "          )\n",
       "          (1): Conv2dNormActivation(\n",
       "            (0): Conv2d(1824, 1824, kernel_size=(5, 5), stride=(1, 1), padding=(2, 2), groups=1824, bias=False)\n",
       "            (1): BatchNorm2d(1824, eps=0.001, momentum=0.01, affine=True, track_running_stats=True)\n",
       "            (2): SiLU(inplace=True)\n",
       "          )\n",
       "          (2): SqueezeExcitation(\n",
       "            (avgpool): AdaptiveAvgPool2d(output_size=1)\n",
       "            (fc1): Conv2d(1824, 76, kernel_size=(1, 1), stride=(1, 1))\n",
       "            (fc2): Conv2d(76, 1824, kernel_size=(1, 1), stride=(1, 1))\n",
       "            (activation): SiLU(inplace=True)\n",
       "            (scale_activation): Sigmoid()\n",
       "          )\n",
       "          (3): Conv2dNormActivation(\n",
       "            (0): Conv2d(1824, 304, kernel_size=(1, 1), stride=(1, 1), bias=False)\n",
       "            (1): BatchNorm2d(304, eps=0.001, momentum=0.01, affine=True, track_running_stats=True)\n",
       "          )\n",
       "        )\n",
       "        (stochastic_depth): StochasticDepth(p=0.14871794871794874, mode=row)\n",
       "      )\n",
       "      (3): MBConv(\n",
       "        (block): Sequential(\n",
       "          (0): Conv2dNormActivation(\n",
       "            (0): Conv2d(304, 1824, kernel_size=(1, 1), stride=(1, 1), bias=False)\n",
       "            (1): BatchNorm2d(1824, eps=0.001, momentum=0.01, affine=True, track_running_stats=True)\n",
       "            (2): SiLU(inplace=True)\n",
       "          )\n",
       "          (1): Conv2dNormActivation(\n",
       "            (0): Conv2d(1824, 1824, kernel_size=(5, 5), stride=(1, 1), padding=(2, 2), groups=1824, bias=False)\n",
       "            (1): BatchNorm2d(1824, eps=0.001, momentum=0.01, affine=True, track_running_stats=True)\n",
       "            (2): SiLU(inplace=True)\n",
       "          )\n",
       "          (2): SqueezeExcitation(\n",
       "            (avgpool): AdaptiveAvgPool2d(output_size=1)\n",
       "            (fc1): Conv2d(1824, 76, kernel_size=(1, 1), stride=(1, 1))\n",
       "            (fc2): Conv2d(76, 1824, kernel_size=(1, 1), stride=(1, 1))\n",
       "            (activation): SiLU(inplace=True)\n",
       "            (scale_activation): Sigmoid()\n",
       "          )\n",
       "          (3): Conv2dNormActivation(\n",
       "            (0): Conv2d(1824, 304, kernel_size=(1, 1), stride=(1, 1), bias=False)\n",
       "            (1): BatchNorm2d(304, eps=0.001, momentum=0.01, affine=True, track_running_stats=True)\n",
       "          )\n",
       "        )\n",
       "        (stochastic_depth): StochasticDepth(p=0.15384615384615385, mode=row)\n",
       "      )\n",
       "      (4): MBConv(\n",
       "        (block): Sequential(\n",
       "          (0): Conv2dNormActivation(\n",
       "            (0): Conv2d(304, 1824, kernel_size=(1, 1), stride=(1, 1), bias=False)\n",
       "            (1): BatchNorm2d(1824, eps=0.001, momentum=0.01, affine=True, track_running_stats=True)\n",
       "            (2): SiLU(inplace=True)\n",
       "          )\n",
       "          (1): Conv2dNormActivation(\n",
       "            (0): Conv2d(1824, 1824, kernel_size=(5, 5), stride=(1, 1), padding=(2, 2), groups=1824, bias=False)\n",
       "            (1): BatchNorm2d(1824, eps=0.001, momentum=0.01, affine=True, track_running_stats=True)\n",
       "            (2): SiLU(inplace=True)\n",
       "          )\n",
       "          (2): SqueezeExcitation(\n",
       "            (avgpool): AdaptiveAvgPool2d(output_size=1)\n",
       "            (fc1): Conv2d(1824, 76, kernel_size=(1, 1), stride=(1, 1))\n",
       "            (fc2): Conv2d(76, 1824, kernel_size=(1, 1), stride=(1, 1))\n",
       "            (activation): SiLU(inplace=True)\n",
       "            (scale_activation): Sigmoid()\n",
       "          )\n",
       "          (3): Conv2dNormActivation(\n",
       "            (0): Conv2d(1824, 304, kernel_size=(1, 1), stride=(1, 1), bias=False)\n",
       "            (1): BatchNorm2d(304, eps=0.001, momentum=0.01, affine=True, track_running_stats=True)\n",
       "          )\n",
       "        )\n",
       "        (stochastic_depth): StochasticDepth(p=0.158974358974359, mode=row)\n",
       "      )\n",
       "      (5): MBConv(\n",
       "        (block): Sequential(\n",
       "          (0): Conv2dNormActivation(\n",
       "            (0): Conv2d(304, 1824, kernel_size=(1, 1), stride=(1, 1), bias=False)\n",
       "            (1): BatchNorm2d(1824, eps=0.001, momentum=0.01, affine=True, track_running_stats=True)\n",
       "            (2): SiLU(inplace=True)\n",
       "          )\n",
       "          (1): Conv2dNormActivation(\n",
       "            (0): Conv2d(1824, 1824, kernel_size=(5, 5), stride=(1, 1), padding=(2, 2), groups=1824, bias=False)\n",
       "            (1): BatchNorm2d(1824, eps=0.001, momentum=0.01, affine=True, track_running_stats=True)\n",
       "            (2): SiLU(inplace=True)\n",
       "          )\n",
       "          (2): SqueezeExcitation(\n",
       "            (avgpool): AdaptiveAvgPool2d(output_size=1)\n",
       "            (fc1): Conv2d(1824, 76, kernel_size=(1, 1), stride=(1, 1))\n",
       "            (fc2): Conv2d(76, 1824, kernel_size=(1, 1), stride=(1, 1))\n",
       "            (activation): SiLU(inplace=True)\n",
       "            (scale_activation): Sigmoid()\n",
       "          )\n",
       "          (3): Conv2dNormActivation(\n",
       "            (0): Conv2d(1824, 304, kernel_size=(1, 1), stride=(1, 1), bias=False)\n",
       "            (1): BatchNorm2d(304, eps=0.001, momentum=0.01, affine=True, track_running_stats=True)\n",
       "          )\n",
       "        )\n",
       "        (stochastic_depth): StochasticDepth(p=0.1641025641025641, mode=row)\n",
       "      )\n",
       "      (6): MBConv(\n",
       "        (block): Sequential(\n",
       "          (0): Conv2dNormActivation(\n",
       "            (0): Conv2d(304, 1824, kernel_size=(1, 1), stride=(1, 1), bias=False)\n",
       "            (1): BatchNorm2d(1824, eps=0.001, momentum=0.01, affine=True, track_running_stats=True)\n",
       "            (2): SiLU(inplace=True)\n",
       "          )\n",
       "          (1): Conv2dNormActivation(\n",
       "            (0): Conv2d(1824, 1824, kernel_size=(5, 5), stride=(1, 1), padding=(2, 2), groups=1824, bias=False)\n",
       "            (1): BatchNorm2d(1824, eps=0.001, momentum=0.01, affine=True, track_running_stats=True)\n",
       "            (2): SiLU(inplace=True)\n",
       "          )\n",
       "          (2): SqueezeExcitation(\n",
       "            (avgpool): AdaptiveAvgPool2d(output_size=1)\n",
       "            (fc1): Conv2d(1824, 76, kernel_size=(1, 1), stride=(1, 1))\n",
       "            (fc2): Conv2d(76, 1824, kernel_size=(1, 1), stride=(1, 1))\n",
       "            (activation): SiLU(inplace=True)\n",
       "            (scale_activation): Sigmoid()\n",
       "          )\n",
       "          (3): Conv2dNormActivation(\n",
       "            (0): Conv2d(1824, 304, kernel_size=(1, 1), stride=(1, 1), bias=False)\n",
       "            (1): BatchNorm2d(304, eps=0.001, momentum=0.01, affine=True, track_running_stats=True)\n",
       "          )\n",
       "        )\n",
       "        (stochastic_depth): StochasticDepth(p=0.16923076923076924, mode=row)\n",
       "      )\n",
       "      (7): MBConv(\n",
       "        (block): Sequential(\n",
       "          (0): Conv2dNormActivation(\n",
       "            (0): Conv2d(304, 1824, kernel_size=(1, 1), stride=(1, 1), bias=False)\n",
       "            (1): BatchNorm2d(1824, eps=0.001, momentum=0.01, affine=True, track_running_stats=True)\n",
       "            (2): SiLU(inplace=True)\n",
       "          )\n",
       "          (1): Conv2dNormActivation(\n",
       "            (0): Conv2d(1824, 1824, kernel_size=(5, 5), stride=(1, 1), padding=(2, 2), groups=1824, bias=False)\n",
       "            (1): BatchNorm2d(1824, eps=0.001, momentum=0.01, affine=True, track_running_stats=True)\n",
       "            (2): SiLU(inplace=True)\n",
       "          )\n",
       "          (2): SqueezeExcitation(\n",
       "            (avgpool): AdaptiveAvgPool2d(output_size=1)\n",
       "            (fc1): Conv2d(1824, 76, kernel_size=(1, 1), stride=(1, 1))\n",
       "            (fc2): Conv2d(76, 1824, kernel_size=(1, 1), stride=(1, 1))\n",
       "            (activation): SiLU(inplace=True)\n",
       "            (scale_activation): Sigmoid()\n",
       "          )\n",
       "          (3): Conv2dNormActivation(\n",
       "            (0): Conv2d(1824, 304, kernel_size=(1, 1), stride=(1, 1), bias=False)\n",
       "            (1): BatchNorm2d(304, eps=0.001, momentum=0.01, affine=True, track_running_stats=True)\n",
       "          )\n",
       "        )\n",
       "        (stochastic_depth): StochasticDepth(p=0.17435897435897438, mode=row)\n",
       "      )\n",
       "      (8): MBConv(\n",
       "        (block): Sequential(\n",
       "          (0): Conv2dNormActivation(\n",
       "            (0): Conv2d(304, 1824, kernel_size=(1, 1), stride=(1, 1), bias=False)\n",
       "            (1): BatchNorm2d(1824, eps=0.001, momentum=0.01, affine=True, track_running_stats=True)\n",
       "            (2): SiLU(inplace=True)\n",
       "          )\n",
       "          (1): Conv2dNormActivation(\n",
       "            (0): Conv2d(1824, 1824, kernel_size=(5, 5), stride=(1, 1), padding=(2, 2), groups=1824, bias=False)\n",
       "            (1): BatchNorm2d(1824, eps=0.001, momentum=0.01, affine=True, track_running_stats=True)\n",
       "            (2): SiLU(inplace=True)\n",
       "          )\n",
       "          (2): SqueezeExcitation(\n",
       "            (avgpool): AdaptiveAvgPool2d(output_size=1)\n",
       "            (fc1): Conv2d(1824, 76, kernel_size=(1, 1), stride=(1, 1))\n",
       "            (fc2): Conv2d(76, 1824, kernel_size=(1, 1), stride=(1, 1))\n",
       "            (activation): SiLU(inplace=True)\n",
       "            (scale_activation): Sigmoid()\n",
       "          )\n",
       "          (3): Conv2dNormActivation(\n",
       "            (0): Conv2d(1824, 304, kernel_size=(1, 1), stride=(1, 1), bias=False)\n",
       "            (1): BatchNorm2d(304, eps=0.001, momentum=0.01, affine=True, track_running_stats=True)\n",
       "          )\n",
       "        )\n",
       "        (stochastic_depth): StochasticDepth(p=0.1794871794871795, mode=row)\n",
       "      )\n",
       "    )\n",
       "    (7): Sequential(\n",
       "      (0): MBConv(\n",
       "        (block): Sequential(\n",
       "          (0): Conv2dNormActivation(\n",
       "            (0): Conv2d(304, 1824, kernel_size=(1, 1), stride=(1, 1), bias=False)\n",
       "            (1): BatchNorm2d(1824, eps=0.001, momentum=0.01, affine=True, track_running_stats=True)\n",
       "            (2): SiLU(inplace=True)\n",
       "          )\n",
       "          (1): Conv2dNormActivation(\n",
       "            (0): Conv2d(1824, 1824, kernel_size=(3, 3), stride=(1, 1), padding=(1, 1), groups=1824, bias=False)\n",
       "            (1): BatchNorm2d(1824, eps=0.001, momentum=0.01, affine=True, track_running_stats=True)\n",
       "            (2): SiLU(inplace=True)\n",
       "          )\n",
       "          (2): SqueezeExcitation(\n",
       "            (avgpool): AdaptiveAvgPool2d(output_size=1)\n",
       "            (fc1): Conv2d(1824, 76, kernel_size=(1, 1), stride=(1, 1))\n",
       "            (fc2): Conv2d(76, 1824, kernel_size=(1, 1), stride=(1, 1))\n",
       "            (activation): SiLU(inplace=True)\n",
       "            (scale_activation): Sigmoid()\n",
       "          )\n",
       "          (3): Conv2dNormActivation(\n",
       "            (0): Conv2d(1824, 512, kernel_size=(1, 1), stride=(1, 1), bias=False)\n",
       "            (1): BatchNorm2d(512, eps=0.001, momentum=0.01, affine=True, track_running_stats=True)\n",
       "          )\n",
       "        )\n",
       "        (stochastic_depth): StochasticDepth(p=0.18461538461538463, mode=row)\n",
       "      )\n",
       "      (1): MBConv(\n",
       "        (block): Sequential(\n",
       "          (0): Conv2dNormActivation(\n",
       "            (0): Conv2d(512, 3072, kernel_size=(1, 1), stride=(1, 1), bias=False)\n",
       "            (1): BatchNorm2d(3072, eps=0.001, momentum=0.01, affine=True, track_running_stats=True)\n",
       "            (2): SiLU(inplace=True)\n",
       "          )\n",
       "          (1): Conv2dNormActivation(\n",
       "            (0): Conv2d(3072, 3072, kernel_size=(3, 3), stride=(1, 1), padding=(1, 1), groups=3072, bias=False)\n",
       "            (1): BatchNorm2d(3072, eps=0.001, momentum=0.01, affine=True, track_running_stats=True)\n",
       "            (2): SiLU(inplace=True)\n",
       "          )\n",
       "          (2): SqueezeExcitation(\n",
       "            (avgpool): AdaptiveAvgPool2d(output_size=1)\n",
       "            (fc1): Conv2d(3072, 128, kernel_size=(1, 1), stride=(1, 1))\n",
       "            (fc2): Conv2d(128, 3072, kernel_size=(1, 1), stride=(1, 1))\n",
       "            (activation): SiLU(inplace=True)\n",
       "            (scale_activation): Sigmoid()\n",
       "          )\n",
       "          (3): Conv2dNormActivation(\n",
       "            (0): Conv2d(3072, 512, kernel_size=(1, 1), stride=(1, 1), bias=False)\n",
       "            (1): BatchNorm2d(512, eps=0.001, momentum=0.01, affine=True, track_running_stats=True)\n",
       "          )\n",
       "        )\n",
       "        (stochastic_depth): StochasticDepth(p=0.18974358974358976, mode=row)\n",
       "      )\n",
       "      (2): MBConv(\n",
       "        (block): Sequential(\n",
       "          (0): Conv2dNormActivation(\n",
       "            (0): Conv2d(512, 3072, kernel_size=(1, 1), stride=(1, 1), bias=False)\n",
       "            (1): BatchNorm2d(3072, eps=0.001, momentum=0.01, affine=True, track_running_stats=True)\n",
       "            (2): SiLU(inplace=True)\n",
       "          )\n",
       "          (1): Conv2dNormActivation(\n",
       "            (0): Conv2d(3072, 3072, kernel_size=(3, 3), stride=(1, 1), padding=(1, 1), groups=3072, bias=False)\n",
       "            (1): BatchNorm2d(3072, eps=0.001, momentum=0.01, affine=True, track_running_stats=True)\n",
       "            (2): SiLU(inplace=True)\n",
       "          )\n",
       "          (2): SqueezeExcitation(\n",
       "            (avgpool): AdaptiveAvgPool2d(output_size=1)\n",
       "            (fc1): Conv2d(3072, 128, kernel_size=(1, 1), stride=(1, 1))\n",
       "            (fc2): Conv2d(128, 3072, kernel_size=(1, 1), stride=(1, 1))\n",
       "            (activation): SiLU(inplace=True)\n",
       "            (scale_activation): Sigmoid()\n",
       "          )\n",
       "          (3): Conv2dNormActivation(\n",
       "            (0): Conv2d(3072, 512, kernel_size=(1, 1), stride=(1, 1), bias=False)\n",
       "            (1): BatchNorm2d(512, eps=0.001, momentum=0.01, affine=True, track_running_stats=True)\n",
       "          )\n",
       "        )\n",
       "        (stochastic_depth): StochasticDepth(p=0.19487179487179487, mode=row)\n",
       "      )\n",
       "    )\n",
       "    (8): Conv2dNormActivation(\n",
       "      (0): Conv2d(512, 2048, kernel_size=(1, 1), stride=(1, 1), bias=False)\n",
       "      (1): BatchNorm2d(2048, eps=0.001, momentum=0.01, affine=True, track_running_stats=True)\n",
       "      (2): SiLU(inplace=True)\n",
       "    )\n",
       "  )\n",
       "  (avgpool): AdaptiveAvgPool2d(output_size=1)\n",
       "  (classifier): Sequential(\n",
       "    (0): Dropout(p=0.4, inplace=True)\n",
       "    (1): Linear(in_features=2048, out_features=196, bias=True)\n",
       "  )\n",
       ")"
      ]
     },
     "execution_count": 14,
     "metadata": {},
     "output_type": "execute_result"
    }
   ],
   "source": [
    "model"
   ]
  },
  {
   "cell_type": "markdown",
   "id": "d8f42f12",
   "metadata": {},
   "source": [
    "# Profiling"
   ]
  },
  {
   "cell_type": "code",
   "execution_count": 15,
   "id": "c28e3564",
   "metadata": {},
   "outputs": [
    {
     "name": "stdout",
     "output_type": "stream",
     "text": [
      "[INFO] : Profiling is running...\n",
      "[INFO] : Performing GPU warm up with 12 iterations...\n",
      "[INFO] : GPU warmup complete!\n",
      "[INFO] : Completed!\n",
      "[INFO] : Time taken: 20.926 seconds.\n"
     ]
    },
    {
     "data": {
      "text/html": [
       "<div>\n",
       "<style scoped>\n",
       "    .dataframe tbody tr th:only-of-type {\n",
       "        vertical-align: middle;\n",
       "    }\n",
       "\n",
       "    .dataframe tbody tr th {\n",
       "        vertical-align: top;\n",
       "    }\n",
       "\n",
       "    .dataframe thead th {\n",
       "        text-align: right;\n",
       "    }\n",
       "</style>\n",
       "<table border=\"1\" class=\"dataframe\">\n",
       "  <thead>\n",
       "    <tr style=\"text-align: right;\">\n",
       "      <th></th>\n",
       "      <th>PARAMETERS</th>\n",
       "      <th>CPU</th>\n",
       "      <th>CUDA</th>\n",
       "    </tr>\n",
       "  </thead>\n",
       "  <tbody>\n",
       "    <tr>\n",
       "      <th>0</th>\n",
       "      <td>MODEL SIZE (MB)</td>\n",
       "      <td>110.303</td>\n",
       "      <td>110.309</td>\n",
       "    </tr>\n",
       "    <tr>\n",
       "      <th>1</th>\n",
       "      <td>MODEL SIZE ON DISK (MB)</td>\n",
       "      <td>110.542</td>\n",
       "      <td>110.786</td>\n",
       "    </tr>\n",
       "    <tr>\n",
       "      <th>2</th>\n",
       "      <td>NUM PARAMETERS (Million)</td>\n",
       "      <td>28.742388</td>\n",
       "      <td>28.742388</td>\n",
       "    </tr>\n",
       "    <tr>\n",
       "      <th>3</th>\n",
       "      <td>SAMPLE MACs (Mega)</td>\n",
       "      <td>2458.093088</td>\n",
       "      <td>2458.093088</td>\n",
       "    </tr>\n",
       "    <tr>\n",
       "      <th>4</th>\n",
       "      <td>SAMPLE FLOPs (Mega)</td>\n",
       "      <td>4916.186176</td>\n",
       "      <td>4916.186176</td>\n",
       "    </tr>\n",
       "    <tr>\n",
       "      <th>5</th>\n",
       "      <td>SAMPLE AVERAGE INFERENCE TIME (Seconds)</td>\n",
       "      <td>0.23075</td>\n",
       "      <td>0.01125</td>\n",
       "    </tr>\n",
       "    <tr>\n",
       "      <th>6</th>\n",
       "      <td>BATCH MACs (Mega)</td>\n",
       "      <td>9832.372352</td>\n",
       "      <td>9832.372352</td>\n",
       "    </tr>\n",
       "    <tr>\n",
       "      <th>7</th>\n",
       "      <td>BATCH FLOPs (Mega)</td>\n",
       "      <td>19664.744704</td>\n",
       "      <td>19664.744704</td>\n",
       "    </tr>\n",
       "    <tr>\n",
       "      <th>8</th>\n",
       "      <td>BATCH AVERAGE INFERENCE TIME (Seconds)</td>\n",
       "      <td>0.923</td>\n",
       "      <td>0.045</td>\n",
       "    </tr>\n",
       "    <tr>\n",
       "      <th>9</th>\n",
       "      <td>INFERENCE BATCH SIZE</td>\n",
       "      <td>4</td>\n",
       "      <td>4</td>\n",
       "    </tr>\n",
       "    <tr>\n",
       "      <th>10</th>\n",
       "      <td>ITERATIONS PER BATCH</td>\n",
       "      <td>10</td>\n",
       "      <td>10</td>\n",
       "    </tr>\n",
       "  </tbody>\n",
       "</table>\n",
       "</div>"
      ],
      "text/plain": [
       "                                 PARAMETERS           CPU          CUDA\n",
       "0                           MODEL SIZE (MB)       110.303       110.309\n",
       "1                   MODEL SIZE ON DISK (MB)       110.542       110.786\n",
       "2                  NUM PARAMETERS (Million)     28.742388     28.742388\n",
       "3                        SAMPLE MACs (Mega)   2458.093088   2458.093088\n",
       "4                       SAMPLE FLOPs (Mega)   4916.186176   4916.186176\n",
       "5   SAMPLE AVERAGE INFERENCE TIME (Seconds)       0.23075       0.01125\n",
       "6                         BATCH MACs (Mega)   9832.372352   9832.372352\n",
       "7                        BATCH FLOPs (Mega)  19664.744704  19664.744704\n",
       "8    BATCH AVERAGE INFERENCE TIME (Seconds)         0.923         0.045\n",
       "9                      INFERENCE BATCH SIZE             4             4\n",
       "10                     ITERATIONS PER BATCH            10            10"
      ]
     },
     "execution_count": 15,
     "metadata": {},
     "output_type": "execute_result"
    }
   ],
   "source": [
    "sample_inputs = torch.randn((4, INPUT_CHANNEL, IMAGE_HEIGHT, IMAGE_WIDTH))\n",
    "\n",
    "profiler = Profiler()\n",
    "results = profiler(\n",
    "    model, \n",
    "    sample_inputs, \n",
    "    devices=[\"cpu\", \"cuda\"],\n",
    "    n_iters=10, \n",
    "    gpu_warmup=True\n",
    ")\n",
    "results.to_pandas()"
   ]
  },
  {
   "cell_type": "markdown",
   "id": "16068252",
   "metadata": {},
   "source": [
    "# ----------------------------------------------------------------------------------"
   ]
  },
  {
   "cell_type": "markdown",
   "id": "7006b9f8",
   "metadata": {},
   "source": [
    "# FP32 Training (Batch size = 48)\n",
    "\n",
    "### Define - hyperparameters, loss, optimizers, schedulers, callbacks, metrics"
   ]
  },
  {
   "cell_type": "code",
   "execution_count": 14,
   "id": "3b343d87",
   "metadata": {},
   "outputs": [],
   "source": [
    "### Define - hyperparameters, loss, metrics, optimizer, scheduler, callbacks\n",
    "\n",
    "# hyperparameterss\n",
    "lr = max_lr = 1e-4\n",
    "num_epochs = 10\n",
    "weight_decay = 1e-3\n",
    "\n",
    "# Loss and optimizer\n",
    "criterion = nn.CrossEntropyLoss()\n",
    "optimizer = optim.AdamW(model.parameters(), lr=lr, weight_decay=weight_decay)\n",
    "\n",
    "# scheduler\n",
    "scheduler = torch.optim.lr_scheduler.OneCycleLR(\n",
    "    optimizer, \n",
    "    max_lr=max_lr,\n",
    "    epochs=num_epochs,\n",
    "    steps_per_epoch=len(train_dataloader),\n",
    "    div_factor=2,\n",
    "    pct_start=0.3,\n",
    "    anneal_strategy='cos'\n",
    ")\n",
    "\n",
    "# callbacks\n",
    "checkpoint = ModelCheckpoint(\n",
    "    root_dir=\"experiments\",\n",
    "    name=\"fp32\",\n",
    "    save_best_only=True,     # saves only the best model; if set to False, saves model for every epoch\n",
    "    save_model_only=True     # saves only the model; if set to False, saves model + optimizer + scheduler if provided\n",
    ")\n",
    "early_stopping = EarlyStopping(patience=3, verbose=True)\n",
    "\n",
    "# metrics\n",
    "metric_accuracy = MulticlassAccuracy(num_classes=NUM_CLASSES, device=device)"
   ]
  },
  {
   "cell_type": "markdown",
   "id": "6e6f0939",
   "metadata": {},
   "source": [
    "### Instantiate trainer and fit"
   ]
  },
  {
   "cell_type": "code",
   "execution_count": 15,
   "id": "716f9093",
   "metadata": {},
   "outputs": [],
   "source": [
    "trainer = Trainer(model, device=device)\n",
    "\n",
    "trainer.compile(\n",
    "    criterion=criterion,\n",
    "    optimizer=optimizer,\n",
    "    scheduler=scheduler,\n",
    "    scheduler_step='batch',\n",
    "    metrics={\n",
    "        \"accuracy\": metric_accuracy\n",
    "    },\n",
    "    callbacks=[\n",
    "        checkpoint,\n",
    "        early_stopping\n",
    "    ],\n",
    "    precision=\"32\",\n",
    "    gradient_acc=False,      \n",
    "    gradient_acc_steps=8\n",
    ")"
   ]
  },
  {
   "cell_type": "code",
   "execution_count": 16,
   "id": "f799422c",
   "metadata": {},
   "outputs": [
    {
     "name": "stdout",
     "output_type": "stream",
     "text": [
      "[INFO] : Checkpoint directory is created at location:- E:\\AI\\Projects\\CV_Components\\CV_Utils\\TrainerV2_Experimentation\\experiments\\fp32\\runs_0\n"
     ]
    },
    {
     "data": {
      "application/vnd.jupyter.widget-view+json": {
       "model_id": "51def3764bc04a31aed65bf890bcd346",
       "version_major": 2,
       "version_minor": 0
      },
      "text/plain": [
       "  0%|          | 0/153 [00:00<?, ?it/s]"
      ]
     },
     "metadata": {},
     "output_type": "display_data"
    },
    {
     "data": {
      "application/vnd.jupyter.widget-view+json": {
       "model_id": "578289dd2dfb4a439769aff720cef6da",
       "version_major": 2,
       "version_minor": 0
      },
      "text/plain": [
       "  0%|          | 0/153 [00:00<?, ?it/s]"
      ]
     },
     "metadata": {},
     "output_type": "display_data"
    },
    {
     "data": {
      "application/vnd.jupyter.widget-view+json": {
       "model_id": "48e68caf383c48c7a9652f3a33642c3b",
       "version_major": 2,
       "version_minor": 0
      },
      "text/plain": [
       "  0%|          | 0/153 [00:00<?, ?it/s]"
      ]
     },
     "metadata": {},
     "output_type": "display_data"
    },
    {
     "data": {
      "application/vnd.jupyter.widget-view+json": {
       "model_id": "63826a491bee4430924786f871e7628b",
       "version_major": 2,
       "version_minor": 0
      },
      "text/plain": [
       "  0%|          | 0/153 [00:00<?, ?it/s]"
      ]
     },
     "metadata": {},
     "output_type": "display_data"
    },
    {
     "data": {
      "application/vnd.jupyter.widget-view+json": {
       "model_id": "185075a6a1c24d659e35bb7831a06cca",
       "version_major": 2,
       "version_minor": 0
      },
      "text/plain": [
       "  0%|          | 0/153 [00:00<?, ?it/s]"
      ]
     },
     "metadata": {},
     "output_type": "display_data"
    },
    {
     "data": {
      "application/vnd.jupyter.widget-view+json": {
       "model_id": "2bcc3347a31e4af494ebc29df437edf9",
       "version_major": 2,
       "version_minor": 0
      },
      "text/plain": [
       "  0%|          | 0/153 [00:00<?, ?it/s]"
      ]
     },
     "metadata": {},
     "output_type": "display_data"
    },
    {
     "data": {
      "application/vnd.jupyter.widget-view+json": {
       "model_id": "1c53b85ca24543bc8c6e6ab82c2d64f4",
       "version_major": 2,
       "version_minor": 0
      },
      "text/plain": [
       "  0%|          | 0/153 [00:00<?, ?it/s]"
      ]
     },
     "metadata": {},
     "output_type": "display_data"
    },
    {
     "data": {
      "application/vnd.jupyter.widget-view+json": {
       "model_id": "a5e6b694e50d488c96ff6ddebaa7ab85",
       "version_major": 2,
       "version_minor": 0
      },
      "text/plain": [
       "  0%|          | 0/153 [00:00<?, ?it/s]"
      ]
     },
     "metadata": {},
     "output_type": "display_data"
    },
    {
     "data": {
      "application/vnd.jupyter.widget-view+json": {
       "model_id": "a83f98af78c4493ca51c5da962ded80f",
       "version_major": 2,
       "version_minor": 0
      },
      "text/plain": [
       "  0%|          | 0/153 [00:00<?, ?it/s]"
      ]
     },
     "metadata": {},
     "output_type": "display_data"
    },
    {
     "data": {
      "application/vnd.jupyter.widget-view+json": {
       "model_id": "976411594a6e4d5aadf61a99e77c61e2",
       "version_major": 2,
       "version_minor": 0
      },
      "text/plain": [
       "  0%|          | 0/153 [00:00<?, ?it/s]"
      ]
     },
     "metadata": {},
     "output_type": "display_data"
    }
   ],
   "source": [
    "history = trainer.fit(\n",
    "    num_epochs,  \n",
    "    train_dataloader,\n",
    "    val_dataloader=None,\n",
    "    progress_bar=True\n",
    ")"
   ]
  },
  {
   "cell_type": "code",
   "execution_count": 17,
   "id": "2a856bdf",
   "metadata": {},
   "outputs": [
    {
     "data": {
      "text/html": [
       "<div>\n",
       "<style scoped>\n",
       "    .dataframe tbody tr th:only-of-type {\n",
       "        vertical-align: middle;\n",
       "    }\n",
       "\n",
       "    .dataframe tbody tr th {\n",
       "        vertical-align: top;\n",
       "    }\n",
       "\n",
       "    .dataframe thead th {\n",
       "        text-align: right;\n",
       "    }\n",
       "</style>\n",
       "<table border=\"1\" class=\"dataframe\">\n",
       "  <thead>\n",
       "    <tr style=\"text-align: right;\">\n",
       "      <th></th>\n",
       "      <th>Epoch</th>\n",
       "      <th>Loss</th>\n",
       "      <th>Lr</th>\n",
       "      <th>Accuracy</th>\n",
       "    </tr>\n",
       "  </thead>\n",
       "  <tbody>\n",
       "    <tr>\n",
       "      <th>0</th>\n",
       "      <td>1</td>\n",
       "      <td>5.250801</td>\n",
       "      <td>6.254954e-05</td>\n",
       "      <td>0.010360</td>\n",
       "    </tr>\n",
       "    <tr>\n",
       "      <th>1</th>\n",
       "      <td>2</td>\n",
       "      <td>4.917985</td>\n",
       "      <td>8.759888e-05</td>\n",
       "      <td>0.095692</td>\n",
       "    </tr>\n",
       "    <tr>\n",
       "      <th>2</th>\n",
       "      <td>3</td>\n",
       "      <td>3.970125</td>\n",
       "      <td>9.999978e-05</td>\n",
       "      <td>0.278217</td>\n",
       "    </tr>\n",
       "    <tr>\n",
       "      <th>3</th>\n",
       "      <td>4</td>\n",
       "      <td>2.715314</td>\n",
       "      <td>9.498486e-05</td>\n",
       "      <td>0.504771</td>\n",
       "    </tr>\n",
       "    <tr>\n",
       "      <th>4</th>\n",
       "      <td>5</td>\n",
       "      <td>1.676627</td>\n",
       "      <td>8.106063e-05</td>\n",
       "      <td>0.715785</td>\n",
       "    </tr>\n",
       "    <tr>\n",
       "      <th>5</th>\n",
       "      <td>6</td>\n",
       "      <td>1.025086</td>\n",
       "      <td>6.098496e-05</td>\n",
       "      <td>0.842285</td>\n",
       "    </tr>\n",
       "    <tr>\n",
       "      <th>6</th>\n",
       "      <td>7</td>\n",
       "      <td>0.661492</td>\n",
       "      <td>3.873408e-05</td>\n",
       "      <td>0.915485</td>\n",
       "    </tr>\n",
       "    <tr>\n",
       "      <th>7</th>\n",
       "      <td>8</td>\n",
       "      <td>0.495982</td>\n",
       "      <td>1.871504e-05</td>\n",
       "      <td>0.944793</td>\n",
       "    </tr>\n",
       "    <tr>\n",
       "      <th>8</th>\n",
       "      <td>9</td>\n",
       "      <td>0.413434</td>\n",
       "      <td>4.892870e-06</td>\n",
       "      <td>0.960742</td>\n",
       "    </tr>\n",
       "    <tr>\n",
       "      <th>9</th>\n",
       "      <td>10</td>\n",
       "      <td>0.392683</td>\n",
       "      <td>5.215099e-09</td>\n",
       "      <td>0.962923</td>\n",
       "    </tr>\n",
       "  </tbody>\n",
       "</table>\n",
       "</div>"
      ],
      "text/plain": [
       "   Epoch      Loss            Lr  Accuracy\n",
       "0      1  5.250801  6.254954e-05  0.010360\n",
       "1      2  4.917985  8.759888e-05  0.095692\n",
       "2      3  3.970125  9.999978e-05  0.278217\n",
       "3      4  2.715314  9.498486e-05  0.504771\n",
       "4      5  1.676627  8.106063e-05  0.715785\n",
       "5      6  1.025086  6.098496e-05  0.842285\n",
       "6      7  0.661492  3.873408e-05  0.915485\n",
       "7      8  0.495982  1.871504e-05  0.944793\n",
       "8      9  0.413434  4.892870e-06  0.960742\n",
       "9     10  0.392683  5.215099e-09  0.962923"
      ]
     },
     "execution_count": 17,
     "metadata": {},
     "output_type": "execute_result"
    }
   ],
   "source": [
    "history.to_pandas()"
   ]
  },
  {
   "cell_type": "code",
   "execution_count": 18,
   "id": "6f3fc9b5",
   "metadata": {},
   "outputs": [
    {
     "name": "stdout",
     "output_type": "stream",
     "text": [
      "[INFO] : History is saved as csv at path: E:\\AI\\Projects\\CV_Components\\CV_Utils\\TrainerV2_Experimentation\\history\\history_fp32.csv\n",
      "[INFO] : History is saved at path: E:\\AI\\Projects\\CV_Components\\CV_Utils\\TrainerV2_Experimentation\\history\\history_fp32.pkl\n"
     ]
    }
   ],
   "source": [
    "history.to_csv(save_path=os.path.join(os.getcwd(), \"history\", \"history_fp32.csv\"))\n",
    "history.save_history(save_path=os.path.join(os.getcwd(), \"history\", \"history_fp32.pkl\"))"
   ]
  },
  {
   "cell_type": "code",
   "execution_count": 19,
   "id": "91098aad",
   "metadata": {},
   "outputs": [
    {
     "data": {
      "image/png": "[encoded data removed]",
      "text/plain": [
       "<Figure size 640x480 with 1 Axes>"
      ]
     },
     "metadata": {},
     "output_type": "display_data"
    }
   ],
   "source": [
    "history.plot_loss()"
   ]
  },
  {
   "cell_type": "code",
   "execution_count": 22,
   "id": "9e940be9",
   "metadata": {},
   "outputs": [
    {
     "data": {
      "image/png": "[encoded data removed]",
      "text/plain": [
       "<Figure size 640x480 with 1 Axes>"
      ]
     },
     "metadata": {},
     "output_type": "display_data"
    }
   ],
   "source": [
    "history.plot_metric(name=\"accuracy\")"
   ]
  },
  {
   "cell_type": "markdown",
   "id": "7d5463d2",
   "metadata": {},
   "source": [
    "# ----------------------------------------------------------------------------------"
   ]
  },
  {
   "cell_type": "markdown",
   "id": "c6d5d7a8",
   "metadata": {},
   "source": [
    "# FP16 AMP Training (Batch size = 48)\n",
    "\n",
    "### Define - hyperparameters, loss, metrics, optimizer, scheduler, callbacks"
   ]
  },
  {
   "cell_type": "code",
   "execution_count": 14,
   "id": "b2729dc9",
   "metadata": {},
   "outputs": [],
   "source": [
    "### Define - hyperparameters, loss, metrics, optimizer, scheduler, callbacks\n",
    "\n",
    "# hyperparameterss\n",
    "lr = max_lr = 1e-4\n",
    "num_epochs = 10\n",
    "weight_decay = 1e-3\n",
    "\n",
    "# Loss and optimizer\n",
    "criterion = nn.CrossEntropyLoss()\n",
    "optimizer = optim.AdamW(model.parameters(), lr=lr, weight_decay=weight_decay)\n",
    "\n",
    "# scheduler\n",
    "scheduler = torch.optim.lr_scheduler.OneCycleLR(\n",
    "    optimizer, \n",
    "    max_lr=max_lr,\n",
    "    epochs=num_epochs,\n",
    "    steps_per_epoch=len(train_dataloader),\n",
    "    div_factor=2,\n",
    "    pct_start=0.3,\n",
    "    anneal_strategy='cos'\n",
    ")\n",
    "\n",
    "# callbacks\n",
    "checkpoint = ModelCheckpoint(\n",
    "    root_dir=\"experiments\",\n",
    "    name=\"fp16_amp\",\n",
    "    save_best_only=True,     # saves only the best model; if set to False, saves model for every epoch\n",
    "    save_model_only=True     # saves only the model; if set to False, saves model + optimizer + scheduler if provided\n",
    ")\n",
    "early_stopping = EarlyStopping(patience=3, verbose=True)\n",
    "\n",
    "# metrics\n",
    "metric_accuracy = MulticlassAccuracy(num_classes=NUM_CLASSES, device=device)"
   ]
  },
  {
   "cell_type": "markdown",
   "id": "e106dbf0",
   "metadata": {},
   "source": [
    "### Instantiate trainer and fit"
   ]
  },
  {
   "cell_type": "code",
   "execution_count": 15,
   "id": "cf2b30dd",
   "metadata": {},
   "outputs": [
    {
     "name": "stderr",
     "output_type": "stream",
     "text": [
      "INFO: Using 16-bit Automatic Mixed Precision (AMP)\n"
     ]
    },
    {
     "name": "stdout",
     "output_type": "stream",
     "text": [
      "[INFO] : Using 16-bit Automatic Mixed Precision (AMP)\n"
     ]
    }
   ],
   "source": [
    "trainer = Trainer(model, device=device)\n",
    "\n",
    "trainer.compile(\n",
    "    criterion=criterion,\n",
    "    optimizer=optimizer,\n",
    "    scheduler=scheduler,\n",
    "    metrics={\n",
    "        \"accuracy\": metric_accuracy\n",
    "    },\n",
    "    callbacks=[\n",
    "        checkpoint,\n",
    "        early_stopping\n",
    "    ],\n",
    "    precision=\"16-mixed\",\n",
    "    gradient_acc=False,      \n",
    "    gradient_acc_steps=8\n",
    ")"
   ]
  },
  {
   "cell_type": "code",
   "execution_count": 16,
   "id": "b23ae0fd",
   "metadata": {},
   "outputs": [
    {
     "name": "stdout",
     "output_type": "stream",
     "text": [
      "[INFO] : Checkpoint directory is created at location:- E:\\AI\\Projects\\CV_Components\\CV_Utils\\TrainerV2_Experimentation\\experiments\\fp16_amp\\runs_0\n"
     ]
    },
    {
     "data": {
      "application/vnd.jupyter.widget-view+json": {
       "model_id": "4dd7356de7ca4695b43f8fc48b87b851",
       "version_major": 2,
       "version_minor": 0
      },
      "text/plain": [
       "  0%|          | 0/153 [00:00<?, ?it/s]"
      ]
     },
     "metadata": {},
     "output_type": "display_data"
    },
    {
     "data": {
      "application/vnd.jupyter.widget-view+json": {
       "model_id": "581bab4f91d64028ad4d4f3b2ee9bf08",
       "version_major": 2,
       "version_minor": 0
      },
      "text/plain": [
       "  0%|          | 0/153 [00:00<?, ?it/s]"
      ]
     },
     "metadata": {},
     "output_type": "display_data"
    },
    {
     "data": {
      "application/vnd.jupyter.widget-view+json": {
       "model_id": "a30a849ea31a404684f9cb5fc634b907",
       "version_major": 2,
       "version_minor": 0
      },
      "text/plain": [
       "  0%|          | 0/153 [00:00<?, ?it/s]"
      ]
     },
     "metadata": {},
     "output_type": "display_data"
    },
    {
     "data": {
      "application/vnd.jupyter.widget-view+json": {
       "model_id": "f07ab2f78b0e4747b64fa782122cfa21",
       "version_major": 2,
       "version_minor": 0
      },
      "text/plain": [
       "  0%|          | 0/153 [00:00<?, ?it/s]"
      ]
     },
     "metadata": {},
     "output_type": "display_data"
    },
    {
     "data": {
      "application/vnd.jupyter.widget-view+json": {
       "model_id": "867330a3e7bc4ef3a49b4efebb01c705",
       "version_major": 2,
       "version_minor": 0
      },
      "text/plain": [
       "  0%|          | 0/153 [00:00<?, ?it/s]"
      ]
     },
     "metadata": {},
     "output_type": "display_data"
    },
    {
     "data": {
      "application/vnd.jupyter.widget-view+json": {
       "model_id": "43cada3ed65545ebac5e6b2c792af9b7",
       "version_major": 2,
       "version_minor": 0
      },
      "text/plain": [
       "  0%|          | 0/153 [00:00<?, ?it/s]"
      ]
     },
     "metadata": {},
     "output_type": "display_data"
    },
    {
     "data": {
      "application/vnd.jupyter.widget-view+json": {
       "model_id": "461a32d20e0347c783d00349cb41a62b",
       "version_major": 2,
       "version_minor": 0
      },
      "text/plain": [
       "  0%|          | 0/153 [00:00<?, ?it/s]"
      ]
     },
     "metadata": {},
     "output_type": "display_data"
    },
    {
     "data": {
      "application/vnd.jupyter.widget-view+json": {
       "model_id": "8a99f58551f5414d8c432f343b67002c",
       "version_major": 2,
       "version_minor": 0
      },
      "text/plain": [
       "  0%|          | 0/153 [00:00<?, ?it/s]"
      ]
     },
     "metadata": {},
     "output_type": "display_data"
    },
    {
     "data": {
      "application/vnd.jupyter.widget-view+json": {
       "model_id": "6d0f239567754e5e90fa6e231a7e4ff6",
       "version_major": 2,
       "version_minor": 0
      },
      "text/plain": [
       "  0%|          | 0/153 [00:00<?, ?it/s]"
      ]
     },
     "metadata": {},
     "output_type": "display_data"
    },
    {
     "data": {
      "application/vnd.jupyter.widget-view+json": {
       "model_id": "c031883f330f4fbdb80c84357afa5ba6",
       "version_major": 2,
       "version_minor": 0
      },
      "text/plain": [
       "  0%|          | 0/153 [00:00<?, ?it/s]"
      ]
     },
     "metadata": {},
     "output_type": "display_data"
    }
   ],
   "source": [
    "history = trainer.fit(\n",
    "    num_epochs,  \n",
    "    train_dataloader,\n",
    "    val_dataloader=None,\n",
    "    progress_bar=True\n",
    ")"
   ]
  },
  {
   "cell_type": "code",
   "execution_count": 17,
   "id": "9547542a",
   "metadata": {},
   "outputs": [
    {
     "data": {
      "text/html": [
       "<div>\n",
       "<style scoped>\n",
       "    .dataframe tbody tr th:only-of-type {\n",
       "        vertical-align: middle;\n",
       "    }\n",
       "\n",
       "    .dataframe tbody tr th {\n",
       "        vertical-align: top;\n",
       "    }\n",
       "\n",
       "    .dataframe thead th {\n",
       "        text-align: right;\n",
       "    }\n",
       "</style>\n",
       "<table border=\"1\" class=\"dataframe\">\n",
       "  <thead>\n",
       "    <tr style=\"text-align: right;\">\n",
       "      <th></th>\n",
       "      <th>Epoch</th>\n",
       "      <th>Loss</th>\n",
       "      <th>Lr</th>\n",
       "      <th>Accuracy</th>\n",
       "    </tr>\n",
       "  </thead>\n",
       "  <tbody>\n",
       "    <tr>\n",
       "      <th>0</th>\n",
       "      <td>1</td>\n",
       "      <td>5.245306</td>\n",
       "      <td>6.254954e-05</td>\n",
       "      <td>0.012950</td>\n",
       "    </tr>\n",
       "    <tr>\n",
       "      <th>1</th>\n",
       "      <td>2</td>\n",
       "      <td>4.889082</td>\n",
       "      <td>8.759888e-05</td>\n",
       "      <td>0.112595</td>\n",
       "    </tr>\n",
       "    <tr>\n",
       "      <th>2</th>\n",
       "      <td>3</td>\n",
       "      <td>3.877271</td>\n",
       "      <td>9.999978e-05</td>\n",
       "      <td>0.291167</td>\n",
       "    </tr>\n",
       "    <tr>\n",
       "      <th>3</th>\n",
       "      <td>4</td>\n",
       "      <td>2.599349</td>\n",
       "      <td>9.498486e-05</td>\n",
       "      <td>0.515812</td>\n",
       "    </tr>\n",
       "    <tr>\n",
       "      <th>4</th>\n",
       "      <td>5</td>\n",
       "      <td>1.579114</td>\n",
       "      <td>8.106063e-05</td>\n",
       "      <td>0.734051</td>\n",
       "    </tr>\n",
       "    <tr>\n",
       "      <th>5</th>\n",
       "      <td>6</td>\n",
       "      <td>0.962732</td>\n",
       "      <td>6.098496e-05</td>\n",
       "      <td>0.851554</td>\n",
       "    </tr>\n",
       "    <tr>\n",
       "      <th>6</th>\n",
       "      <td>7</td>\n",
       "      <td>0.625872</td>\n",
       "      <td>3.873408e-05</td>\n",
       "      <td>0.918075</td>\n",
       "    </tr>\n",
       "    <tr>\n",
       "      <th>7</th>\n",
       "      <td>8</td>\n",
       "      <td>0.467049</td>\n",
       "      <td>1.871504e-05</td>\n",
       "      <td>0.945338</td>\n",
       "    </tr>\n",
       "    <tr>\n",
       "      <th>8</th>\n",
       "      <td>9</td>\n",
       "      <td>0.395655</td>\n",
       "      <td>4.892870e-06</td>\n",
       "      <td>0.962514</td>\n",
       "    </tr>\n",
       "    <tr>\n",
       "      <th>9</th>\n",
       "      <td>10</td>\n",
       "      <td>0.366873</td>\n",
       "      <td>5.215099e-09</td>\n",
       "      <td>0.965513</td>\n",
       "    </tr>\n",
       "  </tbody>\n",
       "</table>\n",
       "</div>"
      ],
      "text/plain": [
       "   Epoch      Loss            Lr  Accuracy\n",
       "0      1  5.245306  6.254954e-05  0.012950\n",
       "1      2  4.889082  8.759888e-05  0.112595\n",
       "2      3  3.877271  9.999978e-05  0.291167\n",
       "3      4  2.599349  9.498486e-05  0.515812\n",
       "4      5  1.579114  8.106063e-05  0.734051\n",
       "5      6  0.962732  6.098496e-05  0.851554\n",
       "6      7  0.625872  3.873408e-05  0.918075\n",
       "7      8  0.467049  1.871504e-05  0.945338\n",
       "8      9  0.395655  4.892870e-06  0.962514\n",
       "9     10  0.366873  5.215099e-09  0.965513"
      ]
     },
     "execution_count": 17,
     "metadata": {},
     "output_type": "execute_result"
    }
   ],
   "source": [
    "history.to_pandas()"
   ]
  },
  {
   "cell_type": "code",
   "execution_count": 18,
   "id": "47f06034",
   "metadata": {},
   "outputs": [
    {
     "name": "stdout",
     "output_type": "stream",
     "text": [
      "[INFO] : History is saved as csv at path: E:\\AI\\Projects\\CV_Components\\CV_Utils\\TrainerV2_Experimentation\\history\\history_fp16_amp.csv\n",
      "[INFO] : History is saved at path: E:\\AI\\Projects\\CV_Components\\CV_Utils\\TrainerV2_Experimentation\\history\\history_fp16_amp.pkl\n"
     ]
    }
   ],
   "source": [
    "history.to_csv(save_path=os.path.join(os.getcwd(), \"history\", \"history_fp16_amp.csv\"))\n",
    "history.save_history(save_path=os.path.join(os.getcwd(), \"history\", \"history_fp16_amp.pkl\"))"
   ]
  },
  {
   "cell_type": "code",
   "execution_count": 19,
   "id": "3938cff7",
   "metadata": {},
   "outputs": [
    {
     "data": {
      "image/png": "[encoded data removed]",
      "text/plain": [
       "<Figure size 640x480 with 1 Axes>"
      ]
     },
     "metadata": {},
     "output_type": "display_data"
    }
   ],
   "source": [
    "history.plot_loss()"
   ]
  },
  {
   "cell_type": "code",
   "execution_count": 21,
   "id": "549818d0",
   "metadata": {},
   "outputs": [
    {
     "data": {
      "image/png": "[encoded data removed]",
      "text/plain": [
       "<Figure size 640x480 with 1 Axes>"
      ]
     },
     "metadata": {},
     "output_type": "display_data"
    }
   ],
   "source": [
    "history.plot_metric(name=\"accuracy\")"
   ]
  },
  {
   "cell_type": "markdown",
   "id": "9653b75f",
   "metadata": {},
   "source": [
    "# ----------------------------------------------------------------------------------"
   ]
  },
  {
   "cell_type": "markdown",
   "id": "3da9a93a",
   "metadata": {},
   "source": [
    "# BF16 AMP Training (Batch size = 48)\n",
    "\n",
    "### Define - hyperparameters, loss, metrics, optimizer, scheduler, callbacks"
   ]
  },
  {
   "cell_type": "code",
   "execution_count": 14,
   "id": "734a0a28",
   "metadata": {},
   "outputs": [],
   "source": [
    "# hyperparameterss\n",
    "lr = max_lr = 1e-4\n",
    "num_epochs = 10\n",
    "weight_decay = 1e-3\n",
    "\n",
    "# Loss and optimizer\n",
    "criterion = nn.CrossEntropyLoss()\n",
    "optimizer = optim.AdamW(model.parameters(), lr=lr, weight_decay=weight_decay)\n",
    "\n",
    "# scheduler\n",
    "scheduler = torch.optim.lr_scheduler.OneCycleLR(\n",
    "    optimizer, \n",
    "    max_lr=max_lr,\n",
    "    epochs=num_epochs,\n",
    "    steps_per_epoch=len(train_dataloader),\n",
    "    div_factor=2,\n",
    "    pct_start=0.3,\n",
    "    anneal_strategy='cos'\n",
    ")\n",
    "\n",
    "# callbacks\n",
    "checkpoint = ModelCheckpoint(\n",
    "    root_dir=\"experiments\",\n",
    "    name=\"bf16_amp\",\n",
    "    save_best_only=True,     # saves only the best model; if set to False, saves model for every epoch\n",
    "    save_model_only=True     # saves only the model; if set to False, saves model + optimizer + scheduler if provided\n",
    ")\n",
    "early_stopping = EarlyStopping(patience=3, verbose=True)\n",
    "\n",
    "# metrics\n",
    "metric_accuracy = MulticlassAccuracy(num_classes=NUM_CLASSES, device=device)"
   ]
  },
  {
   "cell_type": "markdown",
   "id": "47517597",
   "metadata": {},
   "source": [
    "### Instantiate trainer and fit"
   ]
  },
  {
   "cell_type": "code",
   "execution_count": 15,
   "id": "0bbce8ce",
   "metadata": {},
   "outputs": [
    {
     "name": "stderr",
     "output_type": "stream",
     "text": [
      "INFO: Using bfloat16 Automatic Mixed Precision (AMP)\n"
     ]
    },
    {
     "name": "stdout",
     "output_type": "stream",
     "text": [
      "[INFO] : Using bfloat16 Automatic Mixed Precision (AMP)\n"
     ]
    }
   ],
   "source": [
    "trainer = Trainer(model, device=device)\n",
    "\n",
    "trainer.compile(\n",
    "    criterion=criterion,\n",
    "    optimizer=optimizer,\n",
    "    scheduler=scheduler,\n",
    "    metrics={\n",
    "        \"accuracy\": metric_accuracy\n",
    "    },\n",
    "    callbacks=[\n",
    "        checkpoint,\n",
    "        early_stopping\n",
    "    ],\n",
    "    precision=\"bf16-mixed\",\n",
    "    gradient_acc=False,      \n",
    "    gradient_acc_steps=8\n",
    ")"
   ]
  },
  {
   "cell_type": "code",
   "execution_count": null,
   "id": "09cdc487",
   "metadata": {},
   "outputs": [],
   "source": [
    "# Bf16-mixed = 503 MB - x MB / 16384 MB; time = x mins"
   ]
  },
  {
   "cell_type": "code",
   "execution_count": 16,
   "id": "45194d3c",
   "metadata": {},
   "outputs": [
    {
     "name": "stdout",
     "output_type": "stream",
     "text": [
      "[INFO] : Checkpoint directory is created at location:- E:\\AI\\Projects\\CV_Components\\CV_Utils\\TrainerV2_Experimentation\\experiments\\bf16_amp\\runs_0\n"
     ]
    },
    {
     "data": {
      "application/vnd.jupyter.widget-view+json": {
       "model_id": "ae248f04349a464c9598391da464aa50",
       "version_major": 2,
       "version_minor": 0
      },
      "text/plain": [
       "  0%|          | 0/153 [00:00<?, ?it/s]"
      ]
     },
     "metadata": {},
     "output_type": "display_data"
    },
    {
     "data": {
      "application/vnd.jupyter.widget-view+json": {
       "model_id": "d4dc1925d41844efa76dfb15727dacc1",
       "version_major": 2,
       "version_minor": 0
      },
      "text/plain": [
       "  0%|          | 0/153 [00:00<?, ?it/s]"
      ]
     },
     "metadata": {},
     "output_type": "display_data"
    },
    {
     "data": {
      "application/vnd.jupyter.widget-view+json": {
       "model_id": "0a31b20338dc4605a5a3fe1ddbe9260c",
       "version_major": 2,
       "version_minor": 0
      },
      "text/plain": [
       "  0%|          | 0/153 [00:00<?, ?it/s]"
      ]
     },
     "metadata": {},
     "output_type": "display_data"
    },
    {
     "data": {
      "application/vnd.jupyter.widget-view+json": {
       "model_id": "25a103a7594b464086c2b03508f3cf23",
       "version_major": 2,
       "version_minor": 0
      },
      "text/plain": [
       "  0%|          | 0/153 [00:00<?, ?it/s]"
      ]
     },
     "metadata": {},
     "output_type": "display_data"
    },
    {
     "data": {
      "application/vnd.jupyter.widget-view+json": {
       "model_id": "90d2376cafc1440e906ed40f493c3714",
       "version_major": 2,
       "version_minor": 0
      },
      "text/plain": [
       "  0%|          | 0/153 [00:00<?, ?it/s]"
      ]
     },
     "metadata": {},
     "output_type": "display_data"
    },
    {
     "data": {
      "application/vnd.jupyter.widget-view+json": {
       "model_id": "3e36b2c9616d44d2a3d8e44112c79a1f",
       "version_major": 2,
       "version_minor": 0
      },
      "text/plain": [
       "  0%|          | 0/153 [00:00<?, ?it/s]"
      ]
     },
     "metadata": {},
     "output_type": "display_data"
    },
    {
     "data": {
      "application/vnd.jupyter.widget-view+json": {
       "model_id": "dae9a6337d6a44598e38c738a2da3acc",
       "version_major": 2,
       "version_minor": 0
      },
      "text/plain": [
       "  0%|          | 0/153 [00:00<?, ?it/s]"
      ]
     },
     "metadata": {},
     "output_type": "display_data"
    },
    {
     "data": {
      "application/vnd.jupyter.widget-view+json": {
       "model_id": "1495163e0a56445d92e3c5bae0cf0f5b",
       "version_major": 2,
       "version_minor": 0
      },
      "text/plain": [
       "  0%|          | 0/153 [00:00<?, ?it/s]"
      ]
     },
     "metadata": {},
     "output_type": "display_data"
    },
    {
     "data": {
      "application/vnd.jupyter.widget-view+json": {
       "model_id": "584ddb4bd9aa46e5bdb799287120aa97",
       "version_major": 2,
       "version_minor": 0
      },
      "text/plain": [
       "  0%|          | 0/153 [00:00<?, ?it/s]"
      ]
     },
     "metadata": {},
     "output_type": "display_data"
    },
    {
     "data": {
      "application/vnd.jupyter.widget-view+json": {
       "model_id": "bf0d287dfa3c41f68e8e2c74ad0f50a6",
       "version_major": 2,
       "version_minor": 0
      },
      "text/plain": [
       "  0%|          | 0/153 [00:00<?, ?it/s]"
      ]
     },
     "metadata": {},
     "output_type": "display_data"
    }
   ],
   "source": [
    "history = trainer.fit(\n",
    "    num_epochs,  \n",
    "    train_dataloader,\n",
    "    val_dataloader=None,\n",
    "    progress_bar=True\n",
    ")"
   ]
  },
  {
   "cell_type": "code",
   "execution_count": 17,
   "id": "1e2fc729",
   "metadata": {},
   "outputs": [
    {
     "data": {
      "text/html": [
       "<div>\n",
       "<style scoped>\n",
       "    .dataframe tbody tr th:only-of-type {\n",
       "        vertical-align: middle;\n",
       "    }\n",
       "\n",
       "    .dataframe tbody tr th {\n",
       "        vertical-align: top;\n",
       "    }\n",
       "\n",
       "    .dataframe thead th {\n",
       "        text-align: right;\n",
       "    }\n",
       "</style>\n",
       "<table border=\"1\" class=\"dataframe\">\n",
       "  <thead>\n",
       "    <tr style=\"text-align: right;\">\n",
       "      <th></th>\n",
       "      <th>Epoch</th>\n",
       "      <th>Loss</th>\n",
       "      <th>Lr</th>\n",
       "      <th>Accuracy</th>\n",
       "    </tr>\n",
       "  </thead>\n",
       "  <tbody>\n",
       "    <tr>\n",
       "      <th>0</th>\n",
       "      <td>1</td>\n",
       "      <td>5.253920</td>\n",
       "      <td>6.254954e-05</td>\n",
       "      <td>0.010496</td>\n",
       "    </tr>\n",
       "    <tr>\n",
       "      <th>1</th>\n",
       "      <td>2</td>\n",
       "      <td>4.954944</td>\n",
       "      <td>8.759888e-05</td>\n",
       "      <td>0.097328</td>\n",
       "    </tr>\n",
       "    <tr>\n",
       "      <th>2</th>\n",
       "      <td>3</td>\n",
       "      <td>3.939320</td>\n",
       "      <td>9.999978e-05</td>\n",
       "      <td>0.292530</td>\n",
       "    </tr>\n",
       "    <tr>\n",
       "      <th>3</th>\n",
       "      <td>4</td>\n",
       "      <td>2.535197</td>\n",
       "      <td>9.498486e-05</td>\n",
       "      <td>0.546483</td>\n",
       "    </tr>\n",
       "    <tr>\n",
       "      <th>4</th>\n",
       "      <td>5</td>\n",
       "      <td>1.495231</td>\n",
       "      <td>8.106063e-05</td>\n",
       "      <td>0.750409</td>\n",
       "    </tr>\n",
       "    <tr>\n",
       "      <th>5</th>\n",
       "      <td>6</td>\n",
       "      <td>0.894813</td>\n",
       "      <td>6.098496e-05</td>\n",
       "      <td>0.866140</td>\n",
       "    </tr>\n",
       "    <tr>\n",
       "      <th>6</th>\n",
       "      <td>7</td>\n",
       "      <td>0.575359</td>\n",
       "      <td>3.873408e-05</td>\n",
       "      <td>0.924891</td>\n",
       "    </tr>\n",
       "    <tr>\n",
       "      <th>7</th>\n",
       "      <td>8</td>\n",
       "      <td>0.424485</td>\n",
       "      <td>1.871504e-05</td>\n",
       "      <td>0.952563</td>\n",
       "    </tr>\n",
       "    <tr>\n",
       "      <th>8</th>\n",
       "      <td>9</td>\n",
       "      <td>0.364467</td>\n",
       "      <td>4.892870e-06</td>\n",
       "      <td>0.964967</td>\n",
       "    </tr>\n",
       "    <tr>\n",
       "      <th>9</th>\n",
       "      <td>10</td>\n",
       "      <td>0.341003</td>\n",
       "      <td>5.215099e-09</td>\n",
       "      <td>0.971374</td>\n",
       "    </tr>\n",
       "  </tbody>\n",
       "</table>\n",
       "</div>"
      ],
      "text/plain": [
       "   Epoch      Loss            Lr  Accuracy\n",
       "0      1  5.253920  6.254954e-05  0.010496\n",
       "1      2  4.954944  8.759888e-05  0.097328\n",
       "2      3  3.939320  9.999978e-05  0.292530\n",
       "3      4  2.535197  9.498486e-05  0.546483\n",
       "4      5  1.495231  8.106063e-05  0.750409\n",
       "5      6  0.894813  6.098496e-05  0.866140\n",
       "6      7  0.575359  3.873408e-05  0.924891\n",
       "7      8  0.424485  1.871504e-05  0.952563\n",
       "8      9  0.364467  4.892870e-06  0.964967\n",
       "9     10  0.341003  5.215099e-09  0.971374"
      ]
     },
     "execution_count": 17,
     "metadata": {},
     "output_type": "execute_result"
    }
   ],
   "source": [
    "history.to_pandas()"
   ]
  },
  {
   "cell_type": "code",
   "execution_count": null,
   "id": "1262fe44",
   "metadata": {},
   "outputs": [],
   "source": [
    "history.to_csv(save_path=os.path.join(os.getcwd(), \"history\", \"history_bf16_amp.csv\"))\n",
    "history.save_history(save_path=os.path.join(os.getcwd(), \"history\", \"history_bf16_amp.pkl\"))"
   ]
  },
  {
   "cell_type": "code",
   "execution_count": null,
   "id": "2479d688",
   "metadata": {},
   "outputs": [],
   "source": [
    "history.plot_loss()"
   ]
  },
  {
   "cell_type": "code",
   "execution_count": null,
   "id": "28029f77",
   "metadata": {},
   "outputs": [],
   "source": [
    "history.plot_metrics()"
   ]
  },
  {
   "cell_type": "markdown",
   "id": "67eb4475",
   "metadata": {},
   "source": [
    "# ----------------------------------------------------------------------------------"
   ]
  },
  {
   "cell_type": "markdown",
   "id": "31968067",
   "metadata": {},
   "source": [
    "# FP16 AMP Training (Batch size = 6 + Gradient Accumulation steps = 8)\n",
    "\n",
    "### Define - hyperparameters, loss, metrics, optimizer, scheduler, callbacks"
   ]
  },
  {
   "cell_type": "code",
   "execution_count": 14,
   "id": "fb0b2244",
   "metadata": {},
   "outputs": [],
   "source": [
    "gradient_acc_steps = 8\n",
    "if len(train_dataloader) % gradient_acc_steps == 0:\n",
    "    scheduler_steps_per_epoch = int(len(train_dataloader) / gradient_acc_steps)\n",
    "else:\n",
    "    scheduler_steps_per_epoch = int(len(train_dataloader) / gradient_acc_steps) + 1\n",
    "\n",
    "# hyperparameterss\n",
    "lr = max_lr = 1e-4\n",
    "num_epochs = 10\n",
    "weight_decay = 1e-3\n",
    "\n",
    "# Loss and optimizer\n",
    "criterion = nn.CrossEntropyLoss()\n",
    "optimizer = optim.AdamW(model.parameters(), lr=lr, weight_decay=weight_decay)\n",
    "\n",
    "# scheduler\n",
    "scheduler = torch.optim.lr_scheduler.OneCycleLR(\n",
    "    optimizer, \n",
    "    max_lr=max_lr,\n",
    "    epochs=num_epochs,\n",
    "    steps_per_epoch=scheduler_steps_per_epoch,\n",
    "    div_factor=2,\n",
    "    pct_start=0.3,\n",
    "    anneal_strategy='cos'\n",
    ")\n",
    "\n",
    "# callbacks\n",
    "checkpoint = ModelCheckpoint(\n",
    "    root_dir=\"experiments\",\n",
    "    name=\"fp16_amp_grad_acc\",\n",
    "    save_best_only=True,     # saves only the best model; if set to False, saves model for every epoch\n",
    "    save_model_only=True     # saves only the model; if set to False, saves model + optimizer + scheduler if provided\n",
    ")\n",
    "early_stopping = EarlyStopping(patience=3, verbose=True)\n",
    "\n",
    "# metrics\n",
    "metric_accuracy = MulticlassAccuracy(num_classes=NUM_CLASSES, device=device)"
   ]
  },
  {
   "cell_type": "markdown",
   "id": "8cb419f6",
   "metadata": {},
   "source": [
    "### Instantiate trainer and fit"
   ]
  },
  {
   "cell_type": "code",
   "execution_count": 15,
   "id": "1a2b3b24",
   "metadata": {},
   "outputs": [
    {
     "name": "stderr",
     "output_type": "stream",
     "text": [
      "INFO: Using 16-bit Automatic Mixed Precision (AMP)\n"
     ]
    },
    {
     "name": "stdout",
     "output_type": "stream",
     "text": [
      "[INFO] : Using 16-bit Automatic Mixed Precision (AMP)\n"
     ]
    }
   ],
   "source": [
    "trainer = Trainer(model, device=device)\n",
    "\n",
    "trainer.compile(\n",
    "    criterion=criterion,\n",
    "    optimizer=optimizer,\n",
    "    scheduler=scheduler,\n",
    "    metrics={\n",
    "        \"accuracy\": metric_accuracy\n",
    "    },\n",
    "    callbacks=[\n",
    "        checkpoint,\n",
    "        early_stopping\n",
    "    ],\n",
    "    precision=\"16-mixed\",\n",
    "    gradient_acc=True,      \n",
    "    gradient_acc_steps=gradient_acc_steps\n",
    ")"
   ]
  },
  {
   "cell_type": "code",
   "execution_count": null,
   "id": "e91c3e19",
   "metadata": {},
   "outputs": [],
   "source": [
    "# Bf16-mixed Grad Acc= 639 MB - x MB / 16384 MB; time = x mins"
   ]
  },
  {
   "cell_type": "code",
   "execution_count": 16,
   "id": "7b82bb40",
   "metadata": {},
   "outputs": [
    {
     "name": "stdout",
     "output_type": "stream",
     "text": [
      "[INFO] : Checkpoint directory is created at location:- E:\\AI\\Projects\\CV_Components\\CV_Utils\\TrainerV2_Experimentation\\experiments\\fp16_amp_grad_acc\\runs_0\n"
     ]
    },
    {
     "data": {
      "application/vnd.jupyter.widget-view+json": {
       "model_id": "cb16537318734b6aa9097c0019c5b0e8",
       "version_major": 2,
       "version_minor": 0
      },
      "text/plain": [
       "  0%|          | 0/1223 [00:00<?, ?it/s]"
      ]
     },
     "metadata": {},
     "output_type": "display_data"
    },
    {
     "data": {
      "application/vnd.jupyter.widget-view+json": {
       "model_id": "57ad3f4b6be645058e126dad5f9e683f",
       "version_major": 2,
       "version_minor": 0
      },
      "text/plain": [
       "  0%|          | 0/1223 [00:00<?, ?it/s]"
      ]
     },
     "metadata": {},
     "output_type": "display_data"
    },
    {
     "data": {
      "application/vnd.jupyter.widget-view+json": {
       "model_id": "20806123bf534c19acb78f64a174b592",
       "version_major": 2,
       "version_minor": 0
      },
      "text/plain": [
       "  0%|          | 0/1223 [00:00<?, ?it/s]"
      ]
     },
     "metadata": {},
     "output_type": "display_data"
    },
    {
     "data": {
      "application/vnd.jupyter.widget-view+json": {
       "model_id": "5b3f1bfc6e52434b9e58c13105c564d9",
       "version_major": 2,
       "version_minor": 0
      },
      "text/plain": [
       "  0%|          | 0/1223 [00:00<?, ?it/s]"
      ]
     },
     "metadata": {},
     "output_type": "display_data"
    },
    {
     "data": {
      "application/vnd.jupyter.widget-view+json": {
       "model_id": "b8047e42d92e4a9fb041d2aabf4389a8",
       "version_major": 2,
       "version_minor": 0
      },
      "text/plain": [
       "  0%|          | 0/1223 [00:00<?, ?it/s]"
      ]
     },
     "metadata": {},
     "output_type": "display_data"
    },
    {
     "data": {
      "application/vnd.jupyter.widget-view+json": {
       "model_id": "6751edc45df84a4c9e76f3552576508d",
       "version_major": 2,
       "version_minor": 0
      },
      "text/plain": [
       "  0%|          | 0/1223 [00:00<?, ?it/s]"
      ]
     },
     "metadata": {},
     "output_type": "display_data"
    },
    {
     "data": {
      "application/vnd.jupyter.widget-view+json": {
       "model_id": "f36d4e72e565423eaef185101123c277",
       "version_major": 2,
       "version_minor": 0
      },
      "text/plain": [
       "  0%|          | 0/1223 [00:00<?, ?it/s]"
      ]
     },
     "metadata": {},
     "output_type": "display_data"
    },
    {
     "data": {
      "application/vnd.jupyter.widget-view+json": {
       "model_id": "87b91c4fa5c6466aa18cd6b2283b1170",
       "version_major": 2,
       "version_minor": 0
      },
      "text/plain": [
       "  0%|          | 0/1223 [00:00<?, ?it/s]"
      ]
     },
     "metadata": {},
     "output_type": "display_data"
    },
    {
     "data": {
      "application/vnd.jupyter.widget-view+json": {
       "model_id": "44a8143712dd462cbd749dea24372a8a",
       "version_major": 2,
       "version_minor": 0
      },
      "text/plain": [
       "  0%|          | 0/1223 [00:00<?, ?it/s]"
      ]
     },
     "metadata": {},
     "output_type": "display_data"
    },
    {
     "data": {
      "application/vnd.jupyter.widget-view+json": {
       "model_id": "744c44db12f24267a7f7fc92f4cba7b4",
       "version_major": 2,
       "version_minor": 0
      },
      "text/plain": [
       "  0%|          | 0/1223 [00:00<?, ?it/s]"
      ]
     },
     "metadata": {},
     "output_type": "display_data"
    }
   ],
   "source": [
    "history = trainer.fit(\n",
    "    num_epochs,  \n",
    "    train_dataloader,\n",
    "    val_dataloader=None,\n",
    "    progress_bar=True\n",
    ")"
   ]
  },
  {
   "cell_type": "code",
   "execution_count": 17,
   "id": "342e1d97",
   "metadata": {},
   "outputs": [
    {
     "data": {
      "text/html": [
       "<div>\n",
       "<style scoped>\n",
       "    .dataframe tbody tr th:only-of-type {\n",
       "        vertical-align: middle;\n",
       "    }\n",
       "\n",
       "    .dataframe tbody tr th {\n",
       "        vertical-align: top;\n",
       "    }\n",
       "\n",
       "    .dataframe thead th {\n",
       "        text-align: right;\n",
       "    }\n",
       "</style>\n",
       "<table border=\"1\" class=\"dataframe\">\n",
       "  <thead>\n",
       "    <tr style=\"text-align: right;\">\n",
       "      <th></th>\n",
       "      <th>Epoch</th>\n",
       "      <th>Loss</th>\n",
       "      <th>Lr</th>\n",
       "      <th>Accuracy</th>\n",
       "    </tr>\n",
       "  </thead>\n",
       "  <tbody>\n",
       "    <tr>\n",
       "      <th>0</th>\n",
       "      <td>1</td>\n",
       "      <td>5.249320</td>\n",
       "      <td>6.250618e-05</td>\n",
       "      <td>0.010632</td>\n",
       "    </tr>\n",
       "    <tr>\n",
       "      <th>1</th>\n",
       "      <td>2</td>\n",
       "      <td>4.950788</td>\n",
       "      <td>8.751236e-05</td>\n",
       "      <td>0.072519</td>\n",
       "    </tr>\n",
       "    <tr>\n",
       "      <th>2</th>\n",
       "      <td>3</td>\n",
       "      <td>4.195994</td>\n",
       "      <td>1.000000e-04</td>\n",
       "      <td>0.174209</td>\n",
       "    </tr>\n",
       "    <tr>\n",
       "      <th>3</th>\n",
       "      <td>4</td>\n",
       "      <td>3.278093</td>\n",
       "      <td>9.504073e-05</td>\n",
       "      <td>0.329880</td>\n",
       "    </tr>\n",
       "    <tr>\n",
       "      <th>4</th>\n",
       "      <td>5</td>\n",
       "      <td>2.484301</td>\n",
       "      <td>8.116108e-05</td>\n",
       "      <td>0.518130</td>\n",
       "    </tr>\n",
       "    <tr>\n",
       "      <th>5</th>\n",
       "      <td>6</td>\n",
       "      <td>1.888163</td>\n",
       "      <td>6.111010e-05</td>\n",
       "      <td>0.656352</td>\n",
       "    </tr>\n",
       "    <tr>\n",
       "      <th>6</th>\n",
       "      <td>7</td>\n",
       "      <td>1.496513</td>\n",
       "      <td>3.885912e-05</td>\n",
       "      <td>0.737868</td>\n",
       "    </tr>\n",
       "    <tr>\n",
       "      <th>7</th>\n",
       "      <td>8</td>\n",
       "      <td>1.258154</td>\n",
       "      <td>1.881523e-05</td>\n",
       "      <td>0.793893</td>\n",
       "    </tr>\n",
       "    <tr>\n",
       "      <th>8</th>\n",
       "      <td>9</td>\n",
       "      <td>1.134190</td>\n",
       "      <td>4.948351e-06</td>\n",
       "      <td>0.827017</td>\n",
       "    </tr>\n",
       "    <tr>\n",
       "      <th>9</th>\n",
       "      <td>10</td>\n",
       "      <td>1.092622</td>\n",
       "      <td>5.003366e-09</td>\n",
       "      <td>0.832879</td>\n",
       "    </tr>\n",
       "  </tbody>\n",
       "</table>\n",
       "</div>"
      ],
      "text/plain": [
       "   Epoch      Loss            Lr  Accuracy\n",
       "0      1  5.249320  6.250618e-05  0.010632\n",
       "1      2  4.950788  8.751236e-05  0.072519\n",
       "2      3  4.195994  1.000000e-04  0.174209\n",
       "3      4  3.278093  9.504073e-05  0.329880\n",
       "4      5  2.484301  8.116108e-05  0.518130\n",
       "5      6  1.888163  6.111010e-05  0.656352\n",
       "6      7  1.496513  3.885912e-05  0.737868\n",
       "7      8  1.258154  1.881523e-05  0.793893\n",
       "8      9  1.134190  4.948351e-06  0.827017\n",
       "9     10  1.092622  5.003366e-09  0.832879"
      ]
     },
     "execution_count": 17,
     "metadata": {},
     "output_type": "execute_result"
    }
   ],
   "source": [
    "history.to_pandas()"
   ]
  },
  {
   "cell_type": "code",
   "execution_count": 18,
   "id": "b9fc7636",
   "metadata": {},
   "outputs": [
    {
     "name": "stdout",
     "output_type": "stream",
     "text": [
      "[INFO] : History is saved as csv at path: E:\\AI\\Projects\\CV_Components\\CV_Utils\\TrainerV2_Experimentation\\history\\history_bf16_amp_grad_acc.csv\n",
      "[INFO] : History is saved at path: E:\\AI\\Projects\\CV_Components\\CV_Utils\\TrainerV2_Experimentation\\history\\history_bf16_amp_grad_acc.pkl\n"
     ]
    }
   ],
   "source": [
    "history.to_csv(save_path=os.path.join(os.getcwd(), \"history\", \"history_bf16_amp_grad_acc.csv\"))\n",
    "history.save_history(save_path=os.path.join(os.getcwd(), \"history\", \"history_bf16_amp_grad_acc.pkl\"))"
   ]
  },
  {
   "cell_type": "code",
   "execution_count": 19,
   "id": "15ebae71",
   "metadata": {},
   "outputs": [
    {
     "data": {
      "image/png": "[encoded data removed]",
      "text/plain": [
       "<Figure size 640x480 with 1 Axes>"
      ]
     },
     "metadata": {},
     "output_type": "display_data"
    }
   ],
   "source": [
    "history.plot_loss()"
   ]
  },
  {
   "cell_type": "code",
   "execution_count": 21,
   "id": "f8119468",
   "metadata": {},
   "outputs": [
    {
     "data": {
      "image/png": "[encoded data removed]",
      "text/plain": [
       "<Figure size 640x480 with 1 Axes>"
      ]
     },
     "metadata": {},
     "output_type": "display_data"
    }
   ],
   "source": [
    "history.plot_metric(name=\"accuracy\")"
   ]
  },
  {
   "cell_type": "code",
   "execution_count": null,
   "id": "cacadbd2",
   "metadata": {},
   "outputs": [],
   "source": []
  }
 ],
 "metadata": {
  "kernelspec": {
   "display_name": "Python 3 (ipykernel)",
   "language": "python",
   "name": "python3"
  },
  "language_info": {
   "codemirror_mode": {
    "name": "ipython",
    "version": 3
   },
   "file_extension": ".py",
   "mimetype": "text/x-python",
   "name": "python",
   "nbconvert_exporter": "python",
   "pygments_lexer": "ipython3",
   "version": "3.9.0"
  }
 },
 "nbformat": 4,
 "nbformat_minor": 5
}
